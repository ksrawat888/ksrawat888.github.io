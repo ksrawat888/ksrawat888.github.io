{
 "cells": [
  {
   "cell_type": "markdown",
   "id": "856d8419",
   "metadata": {},
   "source": [
    "### Predicting Pregnancy Risk Level"
   ]
  },
  {
   "cell_type": "markdown",
   "id": "af56d59c",
   "metadata": {},
   "source": [
    "In this project, I analyzed a Kaggle dataset containing healthcare features for women to assess pregnancy risk levels. \n",
    "The project involved data cleaning, exploratory data analysis (EDA), feature selection, machine learning model deployment, and hyperparameter tuning. \n",
    "The goal is to develop a machine learning model capable of accurately predicting and categorizing a woman's pregnancy risk level based on her health features."
   ]
  },
  {
   "cell_type": "code",
   "execution_count": 1,
   "id": "02bd5323",
   "metadata": {},
   "outputs": [],
   "source": [
    "import pandas as pd\n",
    "import numpy as np\n",
    "\n",
    "import seaborn as sns\n",
    "import matplotlib.pyplot as plt\n",
    "\n",
    "from scipy import stats\n",
    "\n",
    "from sklearn.linear_model import LogisticRegression\n",
    "from sklearn.neighbors import KNeighborsClassifier\n",
    "from sklearn.svm import SVC\n",
    "from sklearn.tree import DecisionTreeClassifier\n",
    "\n",
    "from sklearn.model_selection import KFold\n",
    "from sklearn.model_selection import train_test_split\n",
    "from sklearn.metrics import classification_report, confusion_matrix\n",
    "from sklearn.metrics import mean_squared_error"
   ]
  },
  {
   "cell_type": "code",
   "execution_count": 2,
   "id": "74a073c4",
   "metadata": {},
   "outputs": [
    {
     "data": {
      "text/html": [
       "<div>\n",
       "<style scoped>\n",
       "    .dataframe tbody tr th:only-of-type {\n",
       "        vertical-align: middle;\n",
       "    }\n",
       "\n",
       "    .dataframe tbody tr th {\n",
       "        vertical-align: top;\n",
       "    }\n",
       "\n",
       "    .dataframe thead th {\n",
       "        text-align: right;\n",
       "    }\n",
       "</style>\n",
       "<table border=\"1\" class=\"dataframe\">\n",
       "  <thead>\n",
       "    <tr style=\"text-align: right;\">\n",
       "      <th></th>\n",
       "      <th>Age</th>\n",
       "      <th>SystolicBP</th>\n",
       "      <th>DiastolicBP</th>\n",
       "      <th>BS</th>\n",
       "      <th>BodyTemp</th>\n",
       "      <th>HeartRate</th>\n",
       "      <th>RiskLevel</th>\n",
       "    </tr>\n",
       "  </thead>\n",
       "  <tbody>\n",
       "    <tr>\n",
       "      <th>0</th>\n",
       "      <td>25</td>\n",
       "      <td>130</td>\n",
       "      <td>80</td>\n",
       "      <td>15.0</td>\n",
       "      <td>98.0</td>\n",
       "      <td>86</td>\n",
       "      <td>high risk</td>\n",
       "    </tr>\n",
       "    <tr>\n",
       "      <th>1</th>\n",
       "      <td>35</td>\n",
       "      <td>140</td>\n",
       "      <td>90</td>\n",
       "      <td>13.0</td>\n",
       "      <td>98.0</td>\n",
       "      <td>70</td>\n",
       "      <td>high risk</td>\n",
       "    </tr>\n",
       "    <tr>\n",
       "      <th>2</th>\n",
       "      <td>29</td>\n",
       "      <td>90</td>\n",
       "      <td>70</td>\n",
       "      <td>8.0</td>\n",
       "      <td>100.0</td>\n",
       "      <td>80</td>\n",
       "      <td>high risk</td>\n",
       "    </tr>\n",
       "    <tr>\n",
       "      <th>3</th>\n",
       "      <td>30</td>\n",
       "      <td>140</td>\n",
       "      <td>85</td>\n",
       "      <td>7.0</td>\n",
       "      <td>98.0</td>\n",
       "      <td>70</td>\n",
       "      <td>high risk</td>\n",
       "    </tr>\n",
       "    <tr>\n",
       "      <th>4</th>\n",
       "      <td>35</td>\n",
       "      <td>120</td>\n",
       "      <td>60</td>\n",
       "      <td>6.1</td>\n",
       "      <td>98.0</td>\n",
       "      <td>76</td>\n",
       "      <td>low risk</td>\n",
       "    </tr>\n",
       "    <tr>\n",
       "      <th>...</th>\n",
       "      <td>...</td>\n",
       "      <td>...</td>\n",
       "      <td>...</td>\n",
       "      <td>...</td>\n",
       "      <td>...</td>\n",
       "      <td>...</td>\n",
       "      <td>...</td>\n",
       "    </tr>\n",
       "    <tr>\n",
       "      <th>1009</th>\n",
       "      <td>22</td>\n",
       "      <td>120</td>\n",
       "      <td>60</td>\n",
       "      <td>15.0</td>\n",
       "      <td>98.0</td>\n",
       "      <td>80</td>\n",
       "      <td>high risk</td>\n",
       "    </tr>\n",
       "    <tr>\n",
       "      <th>1010</th>\n",
       "      <td>55</td>\n",
       "      <td>120</td>\n",
       "      <td>90</td>\n",
       "      <td>18.0</td>\n",
       "      <td>98.0</td>\n",
       "      <td>60</td>\n",
       "      <td>high risk</td>\n",
       "    </tr>\n",
       "    <tr>\n",
       "      <th>1011</th>\n",
       "      <td>35</td>\n",
       "      <td>85</td>\n",
       "      <td>60</td>\n",
       "      <td>19.0</td>\n",
       "      <td>98.0</td>\n",
       "      <td>86</td>\n",
       "      <td>high risk</td>\n",
       "    </tr>\n",
       "    <tr>\n",
       "      <th>1012</th>\n",
       "      <td>43</td>\n",
       "      <td>120</td>\n",
       "      <td>90</td>\n",
       "      <td>18.0</td>\n",
       "      <td>98.0</td>\n",
       "      <td>70</td>\n",
       "      <td>high risk</td>\n",
       "    </tr>\n",
       "    <tr>\n",
       "      <th>1013</th>\n",
       "      <td>32</td>\n",
       "      <td>120</td>\n",
       "      <td>65</td>\n",
       "      <td>6.0</td>\n",
       "      <td>101.0</td>\n",
       "      <td>76</td>\n",
       "      <td>mid risk</td>\n",
       "    </tr>\n",
       "  </tbody>\n",
       "</table>\n",
       "<p>1014 rows × 7 columns</p>\n",
       "</div>"
      ],
      "text/plain": [
       "      Age  SystolicBP  DiastolicBP    BS  BodyTemp  HeartRate  RiskLevel\n",
       "0      25         130           80  15.0      98.0         86  high risk\n",
       "1      35         140           90  13.0      98.0         70  high risk\n",
       "2      29          90           70   8.0     100.0         80  high risk\n",
       "3      30         140           85   7.0      98.0         70  high risk\n",
       "4      35         120           60   6.1      98.0         76   low risk\n",
       "...   ...         ...          ...   ...       ...        ...        ...\n",
       "1009   22         120           60  15.0      98.0         80  high risk\n",
       "1010   55         120           90  18.0      98.0         60  high risk\n",
       "1011   35          85           60  19.0      98.0         86  high risk\n",
       "1012   43         120           90  18.0      98.0         70  high risk\n",
       "1013   32         120           65   6.0     101.0         76   mid risk\n",
       "\n",
       "[1014 rows x 7 columns]"
      ]
     },
     "execution_count": 2,
     "metadata": {},
     "output_type": "execute_result"
    }
   ],
   "source": [
    "df =pd.read_csv(\"C:/Users/karan/Downloads/archive (8)/Maternal Health Risk Data Set.csv\")\n",
    "df"
   ]
  },
  {
   "cell_type": "code",
   "execution_count": 3,
   "id": "f1428a3b",
   "metadata": {},
   "outputs": [],
   "source": [
    "df= df.rename(columns={\"BS\":\"Blood Glucose level\"})"
   ]
  },
  {
   "cell_type": "markdown",
   "id": "893d3548",
   "metadata": {},
   "source": [
    "Checking to see if there are any missing and null values in the data:"
   ]
  },
  {
   "cell_type": "code",
   "execution_count": 4,
   "id": "6d57d1d8",
   "metadata": {},
   "outputs": [
    {
     "data": {
      "text/plain": [
       "Age                    0\n",
       "SystolicBP             0\n",
       "DiastolicBP            0\n",
       "Blood Glucose level    0\n",
       "BodyTemp               0\n",
       "HeartRate              0\n",
       "RiskLevel              0\n",
       "dtype: int64"
      ]
     },
     "execution_count": 4,
     "metadata": {},
     "output_type": "execute_result"
    }
   ],
   "source": [
    "df.isna().sum()"
   ]
  },
  {
   "cell_type": "code",
   "execution_count": 5,
   "id": "0ba3e2e1",
   "metadata": {},
   "outputs": [
    {
     "data": {
      "text/plain": [
       "Age                    0\n",
       "SystolicBP             0\n",
       "DiastolicBP            0\n",
       "Blood Glucose level    0\n",
       "BodyTemp               0\n",
       "HeartRate              0\n",
       "RiskLevel              0\n",
       "dtype: int64"
      ]
     },
     "execution_count": 5,
     "metadata": {},
     "output_type": "execute_result"
    }
   ],
   "source": [
    "df.isnull().sum()"
   ]
  },
  {
   "cell_type": "markdown",
   "id": "768758e6",
   "metadata": {},
   "source": [
    "Checking to see if there are any duplicated rows in the data: "
   ]
  },
  {
   "cell_type": "code",
   "execution_count": 6,
   "id": "e1de0a28",
   "metadata": {},
   "outputs": [
    {
     "data": {
      "text/html": [
       "<div>\n",
       "<style scoped>\n",
       "    .dataframe tbody tr th:only-of-type {\n",
       "        vertical-align: middle;\n",
       "    }\n",
       "\n",
       "    .dataframe tbody tr th {\n",
       "        vertical-align: top;\n",
       "    }\n",
       "\n",
       "    .dataframe thead th {\n",
       "        text-align: right;\n",
       "    }\n",
       "</style>\n",
       "<table border=\"1\" class=\"dataframe\">\n",
       "  <thead>\n",
       "    <tr style=\"text-align: right;\">\n",
       "      <th></th>\n",
       "      <th>Age</th>\n",
       "      <th>SystolicBP</th>\n",
       "      <th>DiastolicBP</th>\n",
       "      <th>Blood Glucose level</th>\n",
       "      <th>BodyTemp</th>\n",
       "      <th>HeartRate</th>\n",
       "      <th>RiskLevel</th>\n",
       "    </tr>\n",
       "  </thead>\n",
       "  <tbody>\n",
       "    <tr>\n",
       "      <th>67</th>\n",
       "      <td>19</td>\n",
       "      <td>120</td>\n",
       "      <td>80</td>\n",
       "      <td>7.0</td>\n",
       "      <td>98.0</td>\n",
       "      <td>70</td>\n",
       "      <td>mid risk</td>\n",
       "    </tr>\n",
       "    <tr>\n",
       "      <th>72</th>\n",
       "      <td>19</td>\n",
       "      <td>120</td>\n",
       "      <td>80</td>\n",
       "      <td>7.0</td>\n",
       "      <td>98.0</td>\n",
       "      <td>70</td>\n",
       "      <td>mid risk</td>\n",
       "    </tr>\n",
       "    <tr>\n",
       "      <th>97</th>\n",
       "      <td>19</td>\n",
       "      <td>120</td>\n",
       "      <td>80</td>\n",
       "      <td>7.0</td>\n",
       "      <td>98.0</td>\n",
       "      <td>70</td>\n",
       "      <td>mid risk</td>\n",
       "    </tr>\n",
       "    <tr>\n",
       "      <th>106</th>\n",
       "      <td>50</td>\n",
       "      <td>140</td>\n",
       "      <td>90</td>\n",
       "      <td>15.0</td>\n",
       "      <td>98.0</td>\n",
       "      <td>90</td>\n",
       "      <td>high risk</td>\n",
       "    </tr>\n",
       "    <tr>\n",
       "      <th>107</th>\n",
       "      <td>25</td>\n",
       "      <td>140</td>\n",
       "      <td>100</td>\n",
       "      <td>6.8</td>\n",
       "      <td>98.0</td>\n",
       "      <td>80</td>\n",
       "      <td>high risk</td>\n",
       "    </tr>\n",
       "    <tr>\n",
       "      <th>...</th>\n",
       "      <td>...</td>\n",
       "      <td>...</td>\n",
       "      <td>...</td>\n",
       "      <td>...</td>\n",
       "      <td>...</td>\n",
       "      <td>...</td>\n",
       "      <td>...</td>\n",
       "    </tr>\n",
       "    <tr>\n",
       "      <th>1009</th>\n",
       "      <td>22</td>\n",
       "      <td>120</td>\n",
       "      <td>60</td>\n",
       "      <td>15.0</td>\n",
       "      <td>98.0</td>\n",
       "      <td>80</td>\n",
       "      <td>high risk</td>\n",
       "    </tr>\n",
       "    <tr>\n",
       "      <th>1010</th>\n",
       "      <td>55</td>\n",
       "      <td>120</td>\n",
       "      <td>90</td>\n",
       "      <td>18.0</td>\n",
       "      <td>98.0</td>\n",
       "      <td>60</td>\n",
       "      <td>high risk</td>\n",
       "    </tr>\n",
       "    <tr>\n",
       "      <th>1011</th>\n",
       "      <td>35</td>\n",
       "      <td>85</td>\n",
       "      <td>60</td>\n",
       "      <td>19.0</td>\n",
       "      <td>98.0</td>\n",
       "      <td>86</td>\n",
       "      <td>high risk</td>\n",
       "    </tr>\n",
       "    <tr>\n",
       "      <th>1012</th>\n",
       "      <td>43</td>\n",
       "      <td>120</td>\n",
       "      <td>90</td>\n",
       "      <td>18.0</td>\n",
       "      <td>98.0</td>\n",
       "      <td>70</td>\n",
       "      <td>high risk</td>\n",
       "    </tr>\n",
       "    <tr>\n",
       "      <th>1013</th>\n",
       "      <td>32</td>\n",
       "      <td>120</td>\n",
       "      <td>65</td>\n",
       "      <td>6.0</td>\n",
       "      <td>101.0</td>\n",
       "      <td>76</td>\n",
       "      <td>mid risk</td>\n",
       "    </tr>\n",
       "  </tbody>\n",
       "</table>\n",
       "<p>562 rows × 7 columns</p>\n",
       "</div>"
      ],
      "text/plain": [
       "      Age  SystolicBP  DiastolicBP  Blood Glucose level  BodyTemp  HeartRate  \\\n",
       "67     19         120           80                  7.0      98.0         70   \n",
       "72     19         120           80                  7.0      98.0         70   \n",
       "97     19         120           80                  7.0      98.0         70   \n",
       "106    50         140           90                 15.0      98.0         90   \n",
       "107    25         140          100                  6.8      98.0         80   \n",
       "...   ...         ...          ...                  ...       ...        ...   \n",
       "1009   22         120           60                 15.0      98.0         80   \n",
       "1010   55         120           90                 18.0      98.0         60   \n",
       "1011   35          85           60                 19.0      98.0         86   \n",
       "1012   43         120           90                 18.0      98.0         70   \n",
       "1013   32         120           65                  6.0     101.0         76   \n",
       "\n",
       "      RiskLevel  \n",
       "67     mid risk  \n",
       "72     mid risk  \n",
       "97     mid risk  \n",
       "106   high risk  \n",
       "107   high risk  \n",
       "...         ...  \n",
       "1009  high risk  \n",
       "1010  high risk  \n",
       "1011  high risk  \n",
       "1012  high risk  \n",
       "1013   mid risk  \n",
       "\n",
       "[562 rows x 7 columns]"
      ]
     },
     "execution_count": 6,
     "metadata": {},
     "output_type": "execute_result"
    }
   ],
   "source": [
    "df[df.duplicated()]"
   ]
  },
  {
   "cell_type": "code",
   "execution_count": 7,
   "id": "ee335967",
   "metadata": {},
   "outputs": [],
   "source": [
    "df = df.drop_duplicates().reset_index(drop=True)"
   ]
  },
  {
   "cell_type": "code",
   "execution_count": 8,
   "id": "7cf32763",
   "metadata": {},
   "outputs": [
    {
     "data": {
      "text/plain": [
       "(452, 7)"
      ]
     },
     "execution_count": 8,
     "metadata": {},
     "output_type": "execute_result"
    }
   ],
   "source": [
    "df.shape"
   ]
  },
  {
   "cell_type": "code",
   "execution_count": 9,
   "id": "d2411209",
   "metadata": {},
   "outputs": [
    {
     "data": {
      "text/plain": [
       "RiskLevel\n",
       "low risk     234\n",
       "high risk    112\n",
       "mid risk     106\n",
       "dtype: int64"
      ]
     },
     "execution_count": 9,
     "metadata": {},
     "output_type": "execute_result"
    }
   ],
   "source": [
    "df.value_counts('RiskLevel')"
   ]
  },
  {
   "cell_type": "code",
   "execution_count": 10,
   "id": "310fb63c",
   "metadata": {},
   "outputs": [
    {
     "data": {
      "text/html": [
       "<div>\n",
       "<style scoped>\n",
       "    .dataframe tbody tr th:only-of-type {\n",
       "        vertical-align: middle;\n",
       "    }\n",
       "\n",
       "    .dataframe tbody tr th {\n",
       "        vertical-align: top;\n",
       "    }\n",
       "\n",
       "    .dataframe thead th {\n",
       "        text-align: right;\n",
       "    }\n",
       "</style>\n",
       "<table border=\"1\" class=\"dataframe\">\n",
       "  <thead>\n",
       "    <tr style=\"text-align: right;\">\n",
       "      <th></th>\n",
       "      <th>Age</th>\n",
       "      <th>SystolicBP</th>\n",
       "      <th>DiastolicBP</th>\n",
       "      <th>Blood Glucose level</th>\n",
       "      <th>BodyTemp</th>\n",
       "      <th>HeartRate</th>\n",
       "      <th>RiskLevel</th>\n",
       "    </tr>\n",
       "  </thead>\n",
       "  <tbody>\n",
       "    <tr>\n",
       "      <th>0</th>\n",
       "      <td>25</td>\n",
       "      <td>130</td>\n",
       "      <td>80</td>\n",
       "      <td>15.0</td>\n",
       "      <td>98.0</td>\n",
       "      <td>86</td>\n",
       "      <td>high risk</td>\n",
       "    </tr>\n",
       "    <tr>\n",
       "      <th>1</th>\n",
       "      <td>35</td>\n",
       "      <td>140</td>\n",
       "      <td>90</td>\n",
       "      <td>13.0</td>\n",
       "      <td>98.0</td>\n",
       "      <td>70</td>\n",
       "      <td>high risk</td>\n",
       "    </tr>\n",
       "    <tr>\n",
       "      <th>2</th>\n",
       "      <td>29</td>\n",
       "      <td>90</td>\n",
       "      <td>70</td>\n",
       "      <td>8.0</td>\n",
       "      <td>100.0</td>\n",
       "      <td>80</td>\n",
       "      <td>high risk</td>\n",
       "    </tr>\n",
       "    <tr>\n",
       "      <th>3</th>\n",
       "      <td>30</td>\n",
       "      <td>140</td>\n",
       "      <td>85</td>\n",
       "      <td>7.0</td>\n",
       "      <td>98.0</td>\n",
       "      <td>70</td>\n",
       "      <td>high risk</td>\n",
       "    </tr>\n",
       "    <tr>\n",
       "      <th>4</th>\n",
       "      <td>35</td>\n",
       "      <td>120</td>\n",
       "      <td>60</td>\n",
       "      <td>6.1</td>\n",
       "      <td>98.0</td>\n",
       "      <td>76</td>\n",
       "      <td>low risk</td>\n",
       "    </tr>\n",
       "    <tr>\n",
       "      <th>...</th>\n",
       "      <td>...</td>\n",
       "      <td>...</td>\n",
       "      <td>...</td>\n",
       "      <td>...</td>\n",
       "      <td>...</td>\n",
       "      <td>...</td>\n",
       "      <td>...</td>\n",
       "    </tr>\n",
       "    <tr>\n",
       "      <th>447</th>\n",
       "      <td>12</td>\n",
       "      <td>100</td>\n",
       "      <td>50</td>\n",
       "      <td>6.4</td>\n",
       "      <td>98.0</td>\n",
       "      <td>70</td>\n",
       "      <td>mid risk</td>\n",
       "    </tr>\n",
       "    <tr>\n",
       "      <th>448</th>\n",
       "      <td>15</td>\n",
       "      <td>100</td>\n",
       "      <td>60</td>\n",
       "      <td>6.0</td>\n",
       "      <td>98.0</td>\n",
       "      <td>80</td>\n",
       "      <td>low risk</td>\n",
       "    </tr>\n",
       "    <tr>\n",
       "      <th>449</th>\n",
       "      <td>15</td>\n",
       "      <td>100</td>\n",
       "      <td>49</td>\n",
       "      <td>7.6</td>\n",
       "      <td>98.0</td>\n",
       "      <td>77</td>\n",
       "      <td>low risk</td>\n",
       "    </tr>\n",
       "    <tr>\n",
       "      <th>450</th>\n",
       "      <td>12</td>\n",
       "      <td>100</td>\n",
       "      <td>50</td>\n",
       "      <td>6.0</td>\n",
       "      <td>98.0</td>\n",
       "      <td>70</td>\n",
       "      <td>mid risk</td>\n",
       "    </tr>\n",
       "    <tr>\n",
       "      <th>451</th>\n",
       "      <td>21</td>\n",
       "      <td>100</td>\n",
       "      <td>50</td>\n",
       "      <td>6.8</td>\n",
       "      <td>98.0</td>\n",
       "      <td>60</td>\n",
       "      <td>low risk</td>\n",
       "    </tr>\n",
       "  </tbody>\n",
       "</table>\n",
       "<p>452 rows × 7 columns</p>\n",
       "</div>"
      ],
      "text/plain": [
       "     Age  SystolicBP  DiastolicBP  Blood Glucose level  BodyTemp  HeartRate  \\\n",
       "0     25         130           80                 15.0      98.0         86   \n",
       "1     35         140           90                 13.0      98.0         70   \n",
       "2     29          90           70                  8.0     100.0         80   \n",
       "3     30         140           85                  7.0      98.0         70   \n",
       "4     35         120           60                  6.1      98.0         76   \n",
       "..   ...         ...          ...                  ...       ...        ...   \n",
       "447   12         100           50                  6.4      98.0         70   \n",
       "448   15         100           60                  6.0      98.0         80   \n",
       "449   15         100           49                  7.6      98.0         77   \n",
       "450   12         100           50                  6.0      98.0         70   \n",
       "451   21         100           50                  6.8      98.0         60   \n",
       "\n",
       "     RiskLevel  \n",
       "0    high risk  \n",
       "1    high risk  \n",
       "2    high risk  \n",
       "3    high risk  \n",
       "4     low risk  \n",
       "..         ...  \n",
       "447   mid risk  \n",
       "448   low risk  \n",
       "449   low risk  \n",
       "450   mid risk  \n",
       "451   low risk  \n",
       "\n",
       "[452 rows x 7 columns]"
      ]
     },
     "execution_count": 10,
     "metadata": {},
     "output_type": "execute_result"
    }
   ],
   "source": [
    "df"
   ]
  },
  {
   "cell_type": "markdown",
   "id": "26375443",
   "metadata": {},
   "source": [
    "I want to modify the risk level to numbers to better indicate it:"
   ]
  },
  {
   "cell_type": "code",
   "execution_count": 11,
   "id": "d51ee005",
   "metadata": {},
   "outputs": [],
   "source": [
    "risk_level_numeric ={\"low risk\":1,\"mid risk\":2,\"high risk\":3}"
   ]
  },
  {
   "cell_type": "code",
   "execution_count": 12,
   "id": "668f6fcd",
   "metadata": {},
   "outputs": [],
   "source": [
    "df['RiskLevel'] = df['RiskLevel'].map(risk_level_numeric)"
   ]
  },
  {
   "cell_type": "code",
   "execution_count": 13,
   "id": "5096d267",
   "metadata": {},
   "outputs": [
    {
     "data": {
      "text/html": [
       "<div>\n",
       "<style scoped>\n",
       "    .dataframe tbody tr th:only-of-type {\n",
       "        vertical-align: middle;\n",
       "    }\n",
       "\n",
       "    .dataframe tbody tr th {\n",
       "        vertical-align: top;\n",
       "    }\n",
       "\n",
       "    .dataframe thead th {\n",
       "        text-align: right;\n",
       "    }\n",
       "</style>\n",
       "<table border=\"1\" class=\"dataframe\">\n",
       "  <thead>\n",
       "    <tr style=\"text-align: right;\">\n",
       "      <th></th>\n",
       "      <th>Age</th>\n",
       "      <th>SystolicBP</th>\n",
       "      <th>DiastolicBP</th>\n",
       "      <th>Blood Glucose level</th>\n",
       "      <th>BodyTemp</th>\n",
       "      <th>HeartRate</th>\n",
       "      <th>RiskLevel</th>\n",
       "    </tr>\n",
       "  </thead>\n",
       "  <tbody>\n",
       "    <tr>\n",
       "      <th>0</th>\n",
       "      <td>25</td>\n",
       "      <td>130</td>\n",
       "      <td>80</td>\n",
       "      <td>15.0</td>\n",
       "      <td>98.0</td>\n",
       "      <td>86</td>\n",
       "      <td>3</td>\n",
       "    </tr>\n",
       "    <tr>\n",
       "      <th>1</th>\n",
       "      <td>35</td>\n",
       "      <td>140</td>\n",
       "      <td>90</td>\n",
       "      <td>13.0</td>\n",
       "      <td>98.0</td>\n",
       "      <td>70</td>\n",
       "      <td>3</td>\n",
       "    </tr>\n",
       "    <tr>\n",
       "      <th>2</th>\n",
       "      <td>29</td>\n",
       "      <td>90</td>\n",
       "      <td>70</td>\n",
       "      <td>8.0</td>\n",
       "      <td>100.0</td>\n",
       "      <td>80</td>\n",
       "      <td>3</td>\n",
       "    </tr>\n",
       "    <tr>\n",
       "      <th>3</th>\n",
       "      <td>30</td>\n",
       "      <td>140</td>\n",
       "      <td>85</td>\n",
       "      <td>7.0</td>\n",
       "      <td>98.0</td>\n",
       "      <td>70</td>\n",
       "      <td>3</td>\n",
       "    </tr>\n",
       "    <tr>\n",
       "      <th>4</th>\n",
       "      <td>35</td>\n",
       "      <td>120</td>\n",
       "      <td>60</td>\n",
       "      <td>6.1</td>\n",
       "      <td>98.0</td>\n",
       "      <td>76</td>\n",
       "      <td>1</td>\n",
       "    </tr>\n",
       "    <tr>\n",
       "      <th>...</th>\n",
       "      <td>...</td>\n",
       "      <td>...</td>\n",
       "      <td>...</td>\n",
       "      <td>...</td>\n",
       "      <td>...</td>\n",
       "      <td>...</td>\n",
       "      <td>...</td>\n",
       "    </tr>\n",
       "    <tr>\n",
       "      <th>447</th>\n",
       "      <td>12</td>\n",
       "      <td>100</td>\n",
       "      <td>50</td>\n",
       "      <td>6.4</td>\n",
       "      <td>98.0</td>\n",
       "      <td>70</td>\n",
       "      <td>2</td>\n",
       "    </tr>\n",
       "    <tr>\n",
       "      <th>448</th>\n",
       "      <td>15</td>\n",
       "      <td>100</td>\n",
       "      <td>60</td>\n",
       "      <td>6.0</td>\n",
       "      <td>98.0</td>\n",
       "      <td>80</td>\n",
       "      <td>1</td>\n",
       "    </tr>\n",
       "    <tr>\n",
       "      <th>449</th>\n",
       "      <td>15</td>\n",
       "      <td>100</td>\n",
       "      <td>49</td>\n",
       "      <td>7.6</td>\n",
       "      <td>98.0</td>\n",
       "      <td>77</td>\n",
       "      <td>1</td>\n",
       "    </tr>\n",
       "    <tr>\n",
       "      <th>450</th>\n",
       "      <td>12</td>\n",
       "      <td>100</td>\n",
       "      <td>50</td>\n",
       "      <td>6.0</td>\n",
       "      <td>98.0</td>\n",
       "      <td>70</td>\n",
       "      <td>2</td>\n",
       "    </tr>\n",
       "    <tr>\n",
       "      <th>451</th>\n",
       "      <td>21</td>\n",
       "      <td>100</td>\n",
       "      <td>50</td>\n",
       "      <td>6.8</td>\n",
       "      <td>98.0</td>\n",
       "      <td>60</td>\n",
       "      <td>1</td>\n",
       "    </tr>\n",
       "  </tbody>\n",
       "</table>\n",
       "<p>452 rows × 7 columns</p>\n",
       "</div>"
      ],
      "text/plain": [
       "     Age  SystolicBP  DiastolicBP  Blood Glucose level  BodyTemp  HeartRate  \\\n",
       "0     25         130           80                 15.0      98.0         86   \n",
       "1     35         140           90                 13.0      98.0         70   \n",
       "2     29          90           70                  8.0     100.0         80   \n",
       "3     30         140           85                  7.0      98.0         70   \n",
       "4     35         120           60                  6.1      98.0         76   \n",
       "..   ...         ...          ...                  ...       ...        ...   \n",
       "447   12         100           50                  6.4      98.0         70   \n",
       "448   15         100           60                  6.0      98.0         80   \n",
       "449   15         100           49                  7.6      98.0         77   \n",
       "450   12         100           50                  6.0      98.0         70   \n",
       "451   21         100           50                  6.8      98.0         60   \n",
       "\n",
       "     RiskLevel  \n",
       "0            3  \n",
       "1            3  \n",
       "2            3  \n",
       "3            3  \n",
       "4            1  \n",
       "..         ...  \n",
       "447          2  \n",
       "448          1  \n",
       "449          1  \n",
       "450          2  \n",
       "451          1  \n",
       "\n",
       "[452 rows x 7 columns]"
      ]
     },
     "execution_count": 13,
     "metadata": {},
     "output_type": "execute_result"
    }
   ],
   "source": [
    "df"
   ]
  },
  {
   "cell_type": "code",
   "execution_count": 14,
   "id": "ffbf5176",
   "metadata": {},
   "outputs": [
    {
     "data": {
      "text/plain": [
       "RiskLevel\n",
       "1    234\n",
       "3    112\n",
       "2    106\n",
       "dtype: int64"
      ]
     },
     "execution_count": 14,
     "metadata": {},
     "output_type": "execute_result"
    }
   ],
   "source": [
    "risk_level_values= df.value_counts('RiskLevel')\n",
    "risk_level_values"
   ]
  },
  {
   "cell_type": "code",
   "execution_count": 15,
   "id": "1da03aaf",
   "metadata": {},
   "outputs": [
    {
     "data": {
      "image/png": "[encoded data removed]",
      "text/plain": [
       "<Figure size 640x480 with 1 Axes>"
      ]
     },
     "metadata": {},
     "output_type": "display_data"
    }
   ],
   "source": [
    "sns.barplot(x=risk_level_values.index,y= risk_level_values.values)\n",
    "\n",
    "plt.title('Risk Level Counts')\n",
    "plt.xlabel('Risk Level')\n",
    "plt.ylabel('Count')\n",
    "plt.show()"
   ]
  },
  {
   "cell_type": "markdown",
   "id": "f2c430ee",
   "metadata": {},
   "source": [
    "Majority of the Risk levels are in category 1, low risk"
   ]
  },
  {
   "cell_type": "code",
   "execution_count": 122,
   "id": "4f3218be",
   "metadata": {},
   "outputs": [
    {
     "data": {
      "image/png": "[encoded data removed]",
      "text/plain": [
       "<Figure size 911.111x300 with 3 Axes>"
      ]
     },
     "metadata": {},
     "output_type": "display_data"
    }
   ],
   "source": [
    "g = sns.FacetGrid(df, col=\"RiskLevel\")\n",
    "g.map(sns.histplot, \"Blood Glucose level\", kde=True, color='green')\n",
    "g.add_legend()\n",
    "plt.show()"
   ]
  },
  {
   "cell_type": "code",
   "execution_count": 119,
   "id": "b46d0255",
   "metadata": {},
   "outputs": [
    {
     "data": {
      "image/png": "[encoded data removed]",
      "text/plain": [
       "<Figure size 911.111x300 with 3 Axes>"
      ]
     },
     "metadata": {},
     "output_type": "display_data"
    }
   ],
   "source": [
    "g = sns.FacetGrid(df, col=\"RiskLevel\")\n",
    "g.map(sns.histplot, \"Age\", kde=True, color=\"red\")\n",
    "g.add_legend()\n",
    "plt.show()"
   ]
  },
  {
   "cell_type": "code",
   "execution_count": 121,
   "id": "1192af48",
   "metadata": {},
   "outputs": [
    {
     "data": {
      "image/png": "[encoded data removed]",
      "text/plain": [
       "<Figure size 911.111x300 with 3 Axes>"
      ]
     },
     "metadata": {},
     "output_type": "display_data"
    }
   ],
   "source": [
    "g = sns.FacetGrid(df, col=\"RiskLevel\")\n",
    "g.map(sns.histplot, \"BodyTemp\", kde=True, color=\"purple\")\n",
    "g.add_legend()\n",
    "plt.show()"
   ]
  },
  {
   "cell_type": "markdown",
   "id": "913ccdeb",
   "metadata": {},
   "source": [
    "These histplot's show that for Risk level 1, most of the features tend to be right-skewed, whereas the highest risk level 3 has less of a skew. This means that in general, Risk level increases as features tend to have higher values. "
   ]
  },
  {
   "cell_type": "markdown",
   "id": "6a4c32d8",
   "metadata": {},
   "source": [
    "Since the whole point of the analysis is to determine factors that affect Risk level, I want to calculate the pearson correlation between risk level and the other parametres in the dataset to the find statistical linear relationships."
   ]
  },
  {
   "cell_type": "code",
   "execution_count": 16,
   "id": "596d21cf",
   "metadata": {},
   "outputs": [
    {
     "data": {
      "text/plain": [
       "<AxesSubplot:>"
      ]
     },
     "execution_count": 16,
     "metadata": {},
     "output_type": "execute_result"
    },
    {
     "data": {
      "image/png": "[encoded data removed]",
      "text/plain": [
       "<Figure size 640x480 with 2 Axes>"
      ]
     },
     "metadata": {},
     "output_type": "display_data"
    }
   ],
   "source": [
    "corr = df.corr()\n",
    "sns.heatmap(corr, annot=True, cmap=\"crest\")"
   ]
  },
  {
   "cell_type": "markdown",
   "id": "e82991ad",
   "metadata": {},
   "source": [
    "From the heatmap, I can see that Blood Glucose Level has the highest correlation with Risk Level, other features that also have a positive correlation are SystolicBP, Diastolic BP, and Body Temperature. These will be our features for the Machine learning models. However, I would also like to check later if the other features have any relation with the Risk level."
   ]
  },
  {
   "cell_type": "code",
   "execution_count": 17,
   "id": "5e441e11",
   "metadata": {},
   "outputs": [
    {
     "data": {
      "text/html": [
       "<div>\n",
       "<style scoped>\n",
       "    .dataframe tbody tr th:only-of-type {\n",
       "        vertical-align: middle;\n",
       "    }\n",
       "\n",
       "    .dataframe tbody tr th {\n",
       "        vertical-align: top;\n",
       "    }\n",
       "\n",
       "    .dataframe thead th {\n",
       "        text-align: right;\n",
       "    }\n",
       "</style>\n",
       "<table border=\"1\" class=\"dataframe\">\n",
       "  <thead>\n",
       "    <tr style=\"text-align: right;\">\n",
       "      <th></th>\n",
       "      <th>SystolicBP</th>\n",
       "      <th>DiastolicBP</th>\n",
       "      <th>Blood Glucose level</th>\n",
       "      <th>BodyTemp</th>\n",
       "    </tr>\n",
       "  </thead>\n",
       "  <tbody>\n",
       "    <tr>\n",
       "      <th>0</th>\n",
       "      <td>130</td>\n",
       "      <td>80</td>\n",
       "      <td>15.0</td>\n",
       "      <td>98.0</td>\n",
       "    </tr>\n",
       "    <tr>\n",
       "      <th>1</th>\n",
       "      <td>140</td>\n",
       "      <td>90</td>\n",
       "      <td>13.0</td>\n",
       "      <td>98.0</td>\n",
       "    </tr>\n",
       "    <tr>\n",
       "      <th>2</th>\n",
       "      <td>90</td>\n",
       "      <td>70</td>\n",
       "      <td>8.0</td>\n",
       "      <td>100.0</td>\n",
       "    </tr>\n",
       "    <tr>\n",
       "      <th>3</th>\n",
       "      <td>140</td>\n",
       "      <td>85</td>\n",
       "      <td>7.0</td>\n",
       "      <td>98.0</td>\n",
       "    </tr>\n",
       "    <tr>\n",
       "      <th>4</th>\n",
       "      <td>120</td>\n",
       "      <td>60</td>\n",
       "      <td>6.1</td>\n",
       "      <td>98.0</td>\n",
       "    </tr>\n",
       "    <tr>\n",
       "      <th>...</th>\n",
       "      <td>...</td>\n",
       "      <td>...</td>\n",
       "      <td>...</td>\n",
       "      <td>...</td>\n",
       "    </tr>\n",
       "    <tr>\n",
       "      <th>447</th>\n",
       "      <td>100</td>\n",
       "      <td>50</td>\n",
       "      <td>6.4</td>\n",
       "      <td>98.0</td>\n",
       "    </tr>\n",
       "    <tr>\n",
       "      <th>448</th>\n",
       "      <td>100</td>\n",
       "      <td>60</td>\n",
       "      <td>6.0</td>\n",
       "      <td>98.0</td>\n",
       "    </tr>\n",
       "    <tr>\n",
       "      <th>449</th>\n",
       "      <td>100</td>\n",
       "      <td>49</td>\n",
       "      <td>7.6</td>\n",
       "      <td>98.0</td>\n",
       "    </tr>\n",
       "    <tr>\n",
       "      <th>450</th>\n",
       "      <td>100</td>\n",
       "      <td>50</td>\n",
       "      <td>6.0</td>\n",
       "      <td>98.0</td>\n",
       "    </tr>\n",
       "    <tr>\n",
       "      <th>451</th>\n",
       "      <td>100</td>\n",
       "      <td>50</td>\n",
       "      <td>6.8</td>\n",
       "      <td>98.0</td>\n",
       "    </tr>\n",
       "  </tbody>\n",
       "</table>\n",
       "<p>452 rows × 4 columns</p>\n",
       "</div>"
      ],
      "text/plain": [
       "     SystolicBP  DiastolicBP  Blood Glucose level  BodyTemp\n",
       "0           130           80                 15.0      98.0\n",
       "1           140           90                 13.0      98.0\n",
       "2            90           70                  8.0     100.0\n",
       "3           140           85                  7.0      98.0\n",
       "4           120           60                  6.1      98.0\n",
       "..          ...          ...                  ...       ...\n",
       "447         100           50                  6.4      98.0\n",
       "448         100           60                  6.0      98.0\n",
       "449         100           49                  7.6      98.0\n",
       "450         100           50                  6.0      98.0\n",
       "451         100           50                  6.8      98.0\n",
       "\n",
       "[452 rows x 4 columns]"
      ]
     },
     "execution_count": 17,
     "metadata": {},
     "output_type": "execute_result"
    }
   ],
   "source": [
    "Features= df[[\"SystolicBP\", \"DiastolicBP\", \"Blood Glucose level\",\"BodyTemp\"]]\n",
    "Features"
   ]
  },
  {
   "cell_type": "markdown",
   "id": "5719c230",
   "metadata": {},
   "source": [
    "I now want to check the dataset for outliers. I will use the Z-score value to find out how many outliers each column has. "
   ]
  },
  {
   "cell_type": "code",
   "execution_count": 18,
   "id": "763b3577",
   "metadata": {},
   "outputs": [
    {
     "data": {
      "text/html": [
       "<div>\n",
       "<style scoped>\n",
       "    .dataframe tbody tr th:only-of-type {\n",
       "        vertical-align: middle;\n",
       "    }\n",
       "\n",
       "    .dataframe tbody tr th {\n",
       "        vertical-align: top;\n",
       "    }\n",
       "\n",
       "    .dataframe thead th {\n",
       "        text-align: right;\n",
       "    }\n",
       "</style>\n",
       "<table border=\"1\" class=\"dataframe\">\n",
       "  <thead>\n",
       "    <tr style=\"text-align: right;\">\n",
       "      <th></th>\n",
       "      <th>Age</th>\n",
       "      <th>SystolicBP</th>\n",
       "      <th>DiastolicBP</th>\n",
       "      <th>Blood Glucose level</th>\n",
       "      <th>BodyTemp</th>\n",
       "      <th>HeartRate</th>\n",
       "      <th>RiskLevel</th>\n",
       "    </tr>\n",
       "  </thead>\n",
       "  <tbody>\n",
       "    <tr>\n",
       "      <th>0</th>\n",
       "      <td>-0.305021</td>\n",
       "      <td>1.089310</td>\n",
       "      <td>0.333484</td>\n",
       "      <td>2.354439</td>\n",
       "      <td>-0.491351</td>\n",
       "      <td>1.479009</td>\n",
       "      <td>1.525884</td>\n",
       "    </tr>\n",
       "    <tr>\n",
       "      <th>1</th>\n",
       "      <td>0.422139</td>\n",
       "      <td>1.649455</td>\n",
       "      <td>1.061321</td>\n",
       "      <td>1.646744</td>\n",
       "      <td>-0.491351</td>\n",
       "      <td>-0.484676</td>\n",
       "      <td>1.525884</td>\n",
       "    </tr>\n",
       "    <tr>\n",
       "      <th>2</th>\n",
       "      <td>-0.014157</td>\n",
       "      <td>-1.151273</td>\n",
       "      <td>-0.394352</td>\n",
       "      <td>-0.122492</td>\n",
       "      <td>0.927758</td>\n",
       "      <td>0.742627</td>\n",
       "      <td>1.525884</td>\n",
       "    </tr>\n",
       "    <tr>\n",
       "      <th>3</th>\n",
       "      <td>0.058559</td>\n",
       "      <td>1.649455</td>\n",
       "      <td>0.697402</td>\n",
       "      <td>-0.476340</td>\n",
       "      <td>-0.491351</td>\n",
       "      <td>-0.484676</td>\n",
       "      <td>1.525884</td>\n",
       "    </tr>\n",
       "    <tr>\n",
       "      <th>4</th>\n",
       "      <td>0.422139</td>\n",
       "      <td>0.529164</td>\n",
       "      <td>-1.122188</td>\n",
       "      <td>-0.794802</td>\n",
       "      <td>-0.491351</td>\n",
       "      <td>0.251706</td>\n",
       "      <td>-0.877250</td>\n",
       "    </tr>\n",
       "    <tr>\n",
       "      <th>...</th>\n",
       "      <td>...</td>\n",
       "      <td>...</td>\n",
       "      <td>...</td>\n",
       "      <td>...</td>\n",
       "      <td>...</td>\n",
       "      <td>...</td>\n",
       "      <td>...</td>\n",
       "    </tr>\n",
       "    <tr>\n",
       "      <th>447</th>\n",
       "      <td>-1.250328</td>\n",
       "      <td>-0.591127</td>\n",
       "      <td>-1.850025</td>\n",
       "      <td>-0.688648</td>\n",
       "      <td>-0.491351</td>\n",
       "      <td>-0.484676</td>\n",
       "      <td>0.324317</td>\n",
       "    </tr>\n",
       "    <tr>\n",
       "      <th>448</th>\n",
       "      <td>-1.032180</td>\n",
       "      <td>-0.591127</td>\n",
       "      <td>-1.122188</td>\n",
       "      <td>-0.830187</td>\n",
       "      <td>-0.491351</td>\n",
       "      <td>0.742627</td>\n",
       "      <td>-0.877250</td>\n",
       "    </tr>\n",
       "    <tr>\n",
       "      <th>449</th>\n",
       "      <td>-1.032180</td>\n",
       "      <td>-0.591127</td>\n",
       "      <td>-1.922808</td>\n",
       "      <td>-0.264031</td>\n",
       "      <td>-0.491351</td>\n",
       "      <td>0.374436</td>\n",
       "      <td>-0.877250</td>\n",
       "    </tr>\n",
       "    <tr>\n",
       "      <th>450</th>\n",
       "      <td>-1.250328</td>\n",
       "      <td>-0.591127</td>\n",
       "      <td>-1.850025</td>\n",
       "      <td>-0.830187</td>\n",
       "      <td>-0.491351</td>\n",
       "      <td>-0.484676</td>\n",
       "      <td>0.324317</td>\n",
       "    </tr>\n",
       "    <tr>\n",
       "      <th>451</th>\n",
       "      <td>-0.595885</td>\n",
       "      <td>-0.591127</td>\n",
       "      <td>-1.850025</td>\n",
       "      <td>-0.547109</td>\n",
       "      <td>-0.491351</td>\n",
       "      <td>-1.711980</td>\n",
       "      <td>-0.877250</td>\n",
       "    </tr>\n",
       "  </tbody>\n",
       "</table>\n",
       "<p>452 rows × 7 columns</p>\n",
       "</div>"
      ],
      "text/plain": [
       "          Age  SystolicBP  DiastolicBP  Blood Glucose level  BodyTemp  \\\n",
       "0   -0.305021    1.089310     0.333484             2.354439 -0.491351   \n",
       "1    0.422139    1.649455     1.061321             1.646744 -0.491351   \n",
       "2   -0.014157   -1.151273    -0.394352            -0.122492  0.927758   \n",
       "3    0.058559    1.649455     0.697402            -0.476340 -0.491351   \n",
       "4    0.422139    0.529164    -1.122188            -0.794802 -0.491351   \n",
       "..        ...         ...          ...                  ...       ...   \n",
       "447 -1.250328   -0.591127    -1.850025            -0.688648 -0.491351   \n",
       "448 -1.032180   -0.591127    -1.122188            -0.830187 -0.491351   \n",
       "449 -1.032180   -0.591127    -1.922808            -0.264031 -0.491351   \n",
       "450 -1.250328   -0.591127    -1.850025            -0.830187 -0.491351   \n",
       "451 -0.595885   -0.591127    -1.850025            -0.547109 -0.491351   \n",
       "\n",
       "     HeartRate  RiskLevel  \n",
       "0     1.479009   1.525884  \n",
       "1    -0.484676   1.525884  \n",
       "2     0.742627   1.525884  \n",
       "3    -0.484676   1.525884  \n",
       "4     0.251706  -0.877250  \n",
       "..         ...        ...  \n",
       "447  -0.484676   0.324317  \n",
       "448   0.742627  -0.877250  \n",
       "449   0.374436  -0.877250  \n",
       "450  -0.484676   0.324317  \n",
       "451  -1.711980  -0.877250  \n",
       "\n",
       "[452 rows x 7 columns]"
      ]
     },
     "execution_count": 18,
     "metadata": {},
     "output_type": "execute_result"
    }
   ],
   "source": [
    "z_scores = stats.zscore(df)\n",
    "z_scores"
   ]
  },
  {
   "cell_type": "code",
   "execution_count": 19,
   "id": "e2ea9038",
   "metadata": {},
   "outputs": [
    {
     "data": {
      "text/html": [
       "<div>\n",
       "<style scoped>\n",
       "    .dataframe tbody tr th:only-of-type {\n",
       "        vertical-align: middle;\n",
       "    }\n",
       "\n",
       "    .dataframe tbody tr th {\n",
       "        vertical-align: top;\n",
       "    }\n",
       "\n",
       "    .dataframe thead th {\n",
       "        text-align: right;\n",
       "    }\n",
       "</style>\n",
       "<table border=\"1\" class=\"dataframe\">\n",
       "  <thead>\n",
       "    <tr style=\"text-align: right;\">\n",
       "      <th></th>\n",
       "      <th>Age</th>\n",
       "      <th>SystolicBP</th>\n",
       "      <th>DiastolicBP</th>\n",
       "      <th>Blood Glucose level</th>\n",
       "      <th>BodyTemp</th>\n",
       "      <th>HeartRate</th>\n",
       "      <th>RiskLevel</th>\n",
       "    </tr>\n",
       "  </thead>\n",
       "  <tbody>\n",
       "    <tr>\n",
       "      <th>0</th>\n",
       "      <td>-0.305021</td>\n",
       "      <td>1.089310</td>\n",
       "      <td>0.333484</td>\n",
       "      <td>2.354439</td>\n",
       "      <td>-0.491351</td>\n",
       "      <td>1.479009</td>\n",
       "      <td>1.525884</td>\n",
       "    </tr>\n",
       "    <tr>\n",
       "      <th>1</th>\n",
       "      <td>0.422139</td>\n",
       "      <td>1.649455</td>\n",
       "      <td>1.061321</td>\n",
       "      <td>1.646744</td>\n",
       "      <td>-0.491351</td>\n",
       "      <td>-0.484676</td>\n",
       "      <td>1.525884</td>\n",
       "    </tr>\n",
       "    <tr>\n",
       "      <th>2</th>\n",
       "      <td>-0.014157</td>\n",
       "      <td>-1.151273</td>\n",
       "      <td>-0.394352</td>\n",
       "      <td>-0.122492</td>\n",
       "      <td>0.927758</td>\n",
       "      <td>0.742627</td>\n",
       "      <td>1.525884</td>\n",
       "    </tr>\n",
       "    <tr>\n",
       "      <th>3</th>\n",
       "      <td>0.058559</td>\n",
       "      <td>1.649455</td>\n",
       "      <td>0.697402</td>\n",
       "      <td>-0.476340</td>\n",
       "      <td>-0.491351</td>\n",
       "      <td>-0.484676</td>\n",
       "      <td>1.525884</td>\n",
       "    </tr>\n",
       "    <tr>\n",
       "      <th>4</th>\n",
       "      <td>0.422139</td>\n",
       "      <td>0.529164</td>\n",
       "      <td>-1.122188</td>\n",
       "      <td>-0.794802</td>\n",
       "      <td>-0.491351</td>\n",
       "      <td>0.251706</td>\n",
       "      <td>-0.877250</td>\n",
       "    </tr>\n",
       "    <tr>\n",
       "      <th>...</th>\n",
       "      <td>...</td>\n",
       "      <td>...</td>\n",
       "      <td>...</td>\n",
       "      <td>...</td>\n",
       "      <td>...</td>\n",
       "      <td>...</td>\n",
       "      <td>...</td>\n",
       "    </tr>\n",
       "    <tr>\n",
       "      <th>447</th>\n",
       "      <td>-1.250328</td>\n",
       "      <td>-0.591127</td>\n",
       "      <td>-1.850025</td>\n",
       "      <td>-0.688648</td>\n",
       "      <td>-0.491351</td>\n",
       "      <td>-0.484676</td>\n",
       "      <td>0.324317</td>\n",
       "    </tr>\n",
       "    <tr>\n",
       "      <th>448</th>\n",
       "      <td>-1.032180</td>\n",
       "      <td>-0.591127</td>\n",
       "      <td>-1.122188</td>\n",
       "      <td>-0.830187</td>\n",
       "      <td>-0.491351</td>\n",
       "      <td>0.742627</td>\n",
       "      <td>-0.877250</td>\n",
       "    </tr>\n",
       "    <tr>\n",
       "      <th>449</th>\n",
       "      <td>-1.032180</td>\n",
       "      <td>-0.591127</td>\n",
       "      <td>-1.922808</td>\n",
       "      <td>-0.264031</td>\n",
       "      <td>-0.491351</td>\n",
       "      <td>0.374436</td>\n",
       "      <td>-0.877250</td>\n",
       "    </tr>\n",
       "    <tr>\n",
       "      <th>450</th>\n",
       "      <td>-1.250328</td>\n",
       "      <td>-0.591127</td>\n",
       "      <td>-1.850025</td>\n",
       "      <td>-0.830187</td>\n",
       "      <td>-0.491351</td>\n",
       "      <td>-0.484676</td>\n",
       "      <td>0.324317</td>\n",
       "    </tr>\n",
       "    <tr>\n",
       "      <th>451</th>\n",
       "      <td>-0.595885</td>\n",
       "      <td>-0.591127</td>\n",
       "      <td>-1.850025</td>\n",
       "      <td>-0.547109</td>\n",
       "      <td>-0.491351</td>\n",
       "      <td>-1.711980</td>\n",
       "      <td>-0.877250</td>\n",
       "    </tr>\n",
       "  </tbody>\n",
       "</table>\n",
       "<p>452 rows × 7 columns</p>\n",
       "</div>"
      ],
      "text/plain": [
       "          Age  SystolicBP  DiastolicBP  Blood Glucose level  BodyTemp  \\\n",
       "0   -0.305021    1.089310     0.333484             2.354439 -0.491351   \n",
       "1    0.422139    1.649455     1.061321             1.646744 -0.491351   \n",
       "2   -0.014157   -1.151273    -0.394352            -0.122492  0.927758   \n",
       "3    0.058559    1.649455     0.697402            -0.476340 -0.491351   \n",
       "4    0.422139    0.529164    -1.122188            -0.794802 -0.491351   \n",
       "..        ...         ...          ...                  ...       ...   \n",
       "447 -1.250328   -0.591127    -1.850025            -0.688648 -0.491351   \n",
       "448 -1.032180   -0.591127    -1.122188            -0.830187 -0.491351   \n",
       "449 -1.032180   -0.591127    -1.922808            -0.264031 -0.491351   \n",
       "450 -1.250328   -0.591127    -1.850025            -0.830187 -0.491351   \n",
       "451 -0.595885   -0.591127    -1.850025            -0.547109 -0.491351   \n",
       "\n",
       "     HeartRate  RiskLevel  \n",
       "0     1.479009   1.525884  \n",
       "1    -0.484676   1.525884  \n",
       "2     0.742627   1.525884  \n",
       "3    -0.484676   1.525884  \n",
       "4     0.251706  -0.877250  \n",
       "..         ...        ...  \n",
       "447  -0.484676   0.324317  \n",
       "448   0.742627  -0.877250  \n",
       "449   0.374436  -0.877250  \n",
       "450  -0.484676   0.324317  \n",
       "451  -1.711980  -0.877250  \n",
       "\n",
       "[452 rows x 7 columns]"
      ]
     },
     "execution_count": 19,
     "metadata": {},
     "output_type": "execute_result"
    }
   ],
   "source": [
    "z_df = pd.DataFrame(z_scores, columns=df.columns)\n",
    "z_df"
   ]
  },
  {
   "cell_type": "markdown",
   "id": "d32f5ac4",
   "metadata": {},
   "source": [
    "Since, the common practice of detecting outliers is to consider the absolute z-score grater than 3, I will use that as a reference to find outliers. "
   ]
  },
  {
   "cell_type": "code",
   "execution_count": 20,
   "id": "e05d1105",
   "metadata": {},
   "outputs": [
    {
     "data": {
      "text/html": [
       "<div>\n",
       "<style scoped>\n",
       "    .dataframe tbody tr th:only-of-type {\n",
       "        vertical-align: middle;\n",
       "    }\n",
       "\n",
       "    .dataframe tbody tr th {\n",
       "        vertical-align: top;\n",
       "    }\n",
       "\n",
       "    .dataframe thead th {\n",
       "        text-align: right;\n",
       "    }\n",
       "</style>\n",
       "<table border=\"1\" class=\"dataframe\">\n",
       "  <thead>\n",
       "    <tr style=\"text-align: right;\">\n",
       "      <th></th>\n",
       "      <th>Age</th>\n",
       "      <th>SystolicBP</th>\n",
       "      <th>DiastolicBP</th>\n",
       "      <th>Blood Glucose level</th>\n",
       "      <th>BodyTemp</th>\n",
       "      <th>HeartRate</th>\n",
       "      <th>RiskLevel</th>\n",
       "    </tr>\n",
       "  </thead>\n",
       "  <tbody>\n",
       "    <tr>\n",
       "      <th>9</th>\n",
       "      <td>0.931150</td>\n",
       "      <td>1.089310</td>\n",
       "      <td>0.333484</td>\n",
       "      <td>3.415981</td>\n",
       "      <td>-0.491351</td>\n",
       "      <td>-0.484676</td>\n",
       "      <td>1.525884</td>\n",
       "    </tr>\n",
       "    <tr>\n",
       "      <th>20</th>\n",
       "      <td>0.785718</td>\n",
       "      <td>1.649455</td>\n",
       "      <td>1.789157</td>\n",
       "      <td>3.415981</td>\n",
       "      <td>-0.491351</td>\n",
       "      <td>1.969931</td>\n",
       "      <td>1.525884</td>\n",
       "    </tr>\n",
       "    <tr>\n",
       "      <th>103</th>\n",
       "      <td>0.931150</td>\n",
       "      <td>1.649455</td>\n",
       "      <td>1.789157</td>\n",
       "      <td>3.415981</td>\n",
       "      <td>-0.491351</td>\n",
       "      <td>1.969931</td>\n",
       "      <td>1.525884</td>\n",
       "    </tr>\n",
       "    <tr>\n",
       "      <th>105</th>\n",
       "      <td>1.512878</td>\n",
       "      <td>1.649455</td>\n",
       "      <td>1.425239</td>\n",
       "      <td>3.062134</td>\n",
       "      <td>-0.491351</td>\n",
       "      <td>-1.711980</td>\n",
       "      <td>1.525884</td>\n",
       "    </tr>\n",
       "    <tr>\n",
       "      <th>112</th>\n",
       "      <td>1.876458</td>\n",
       "      <td>1.649455</td>\n",
       "      <td>1.789157</td>\n",
       "      <td>3.415981</td>\n",
       "      <td>-0.491351</td>\n",
       "      <td>1.969931</td>\n",
       "      <td>1.525884</td>\n",
       "    </tr>\n",
       "    <tr>\n",
       "      <th>116</th>\n",
       "      <td>0.785718</td>\n",
       "      <td>2.769747</td>\n",
       "      <td>1.789157</td>\n",
       "      <td>3.769828</td>\n",
       "      <td>-0.491351</td>\n",
       "      <td>0.374436</td>\n",
       "      <td>1.525884</td>\n",
       "    </tr>\n",
       "    <tr>\n",
       "      <th>117</th>\n",
       "      <td>0.203991</td>\n",
       "      <td>1.649455</td>\n",
       "      <td>1.061321</td>\n",
       "      <td>3.415981</td>\n",
       "      <td>-0.491351</td>\n",
       "      <td>1.724470</td>\n",
       "      <td>1.525884</td>\n",
       "    </tr>\n",
       "    <tr>\n",
       "      <th>120</th>\n",
       "      <td>1.876458</td>\n",
       "      <td>1.649455</td>\n",
       "      <td>1.425239</td>\n",
       "      <td>3.769828</td>\n",
       "      <td>-0.491351</td>\n",
       "      <td>0.374436</td>\n",
       "      <td>1.525884</td>\n",
       "    </tr>\n",
       "    <tr>\n",
       "      <th>152</th>\n",
       "      <td>-0.886748</td>\n",
       "      <td>-1.151273</td>\n",
       "      <td>-0.758270</td>\n",
       "      <td>-0.794802</td>\n",
       "      <td>3.056421</td>\n",
       "      <td>-0.852867</td>\n",
       "      <td>1.525884</td>\n",
       "    </tr>\n",
       "    <tr>\n",
       "      <th>163</th>\n",
       "      <td>0.785718</td>\n",
       "      <td>1.649455</td>\n",
       "      <td>1.789157</td>\n",
       "      <td>3.415981</td>\n",
       "      <td>-0.491351</td>\n",
       "      <td>0.374436</td>\n",
       "      <td>1.525884</td>\n",
       "    </tr>\n",
       "    <tr>\n",
       "      <th>206</th>\n",
       "      <td>-0.886748</td>\n",
       "      <td>-1.151273</td>\n",
       "      <td>-0.758270</td>\n",
       "      <td>-0.228646</td>\n",
       "      <td>3.056421</td>\n",
       "      <td>-0.852867</td>\n",
       "      <td>1.525884</td>\n",
       "    </tr>\n",
       "    <tr>\n",
       "      <th>232</th>\n",
       "      <td>1.876458</td>\n",
       "      <td>0.529164</td>\n",
       "      <td>1.061321</td>\n",
       "      <td>3.415981</td>\n",
       "      <td>-0.491351</td>\n",
       "      <td>-1.711980</td>\n",
       "      <td>1.525884</td>\n",
       "    </tr>\n",
       "    <tr>\n",
       "      <th>233</th>\n",
       "      <td>0.422139</td>\n",
       "      <td>-1.431346</td>\n",
       "      <td>-1.122188</td>\n",
       "      <td>3.769828</td>\n",
       "      <td>-0.491351</td>\n",
       "      <td>1.479009</td>\n",
       "      <td>1.525884</td>\n",
       "    </tr>\n",
       "    <tr>\n",
       "      <th>234</th>\n",
       "      <td>1.003866</td>\n",
       "      <td>0.529164</td>\n",
       "      <td>1.061321</td>\n",
       "      <td>3.415981</td>\n",
       "      <td>-0.491351</td>\n",
       "      <td>-0.484676</td>\n",
       "      <td>1.525884</td>\n",
       "    </tr>\n",
       "    <tr>\n",
       "      <th>245</th>\n",
       "      <td>1.149298</td>\n",
       "      <td>0.529164</td>\n",
       "      <td>0.333484</td>\n",
       "      <td>-0.511724</td>\n",
       "      <td>3.056421</td>\n",
       "      <td>-0.484676</td>\n",
       "      <td>-0.877250</td>\n",
       "    </tr>\n",
       "    <tr>\n",
       "      <th>247</th>\n",
       "      <td>2.603617</td>\n",
       "      <td>0.529164</td>\n",
       "      <td>1.061321</td>\n",
       "      <td>-0.511724</td>\n",
       "      <td>3.056421</td>\n",
       "      <td>0.251706</td>\n",
       "      <td>-0.877250</td>\n",
       "    </tr>\n",
       "    <tr>\n",
       "      <th>249</th>\n",
       "      <td>1.149298</td>\n",
       "      <td>-1.151273</td>\n",
       "      <td>-1.122188</td>\n",
       "      <td>3.415981</td>\n",
       "      <td>1.637312</td>\n",
       "      <td>-0.484676</td>\n",
       "      <td>1.525884</td>\n",
       "    </tr>\n",
       "    <tr>\n",
       "      <th>250</th>\n",
       "      <td>-0.523169</td>\n",
       "      <td>0.529164</td>\n",
       "      <td>0.333484</td>\n",
       "      <td>-0.511724</td>\n",
       "      <td>3.056421</td>\n",
       "      <td>0.251706</td>\n",
       "      <td>-0.877250</td>\n",
       "    </tr>\n",
       "    <tr>\n",
       "      <th>268</th>\n",
       "      <td>-0.886748</td>\n",
       "      <td>-1.151273</td>\n",
       "      <td>-0.758270</td>\n",
       "      <td>-0.193262</td>\n",
       "      <td>3.056421</td>\n",
       "      <td>-0.852867</td>\n",
       "      <td>1.525884</td>\n",
       "    </tr>\n",
       "    <tr>\n",
       "      <th>294</th>\n",
       "      <td>-0.886748</td>\n",
       "      <td>1.649455</td>\n",
       "      <td>1.789157</td>\n",
       "      <td>-0.547109</td>\n",
       "      <td>3.056421</td>\n",
       "      <td>0.742627</td>\n",
       "      <td>1.525884</td>\n",
       "    </tr>\n",
       "    <tr>\n",
       "      <th>311</th>\n",
       "      <td>1.003866</td>\n",
       "      <td>1.089310</td>\n",
       "      <td>0.333484</td>\n",
       "      <td>3.415981</td>\n",
       "      <td>-0.491351</td>\n",
       "      <td>-0.484676</td>\n",
       "      <td>0.324317</td>\n",
       "    </tr>\n",
       "    <tr>\n",
       "      <th>318</th>\n",
       "      <td>0.931150</td>\n",
       "      <td>1.089310</td>\n",
       "      <td>0.333484</td>\n",
       "      <td>3.415981</td>\n",
       "      <td>-0.491351</td>\n",
       "      <td>-0.484676</td>\n",
       "      <td>0.324317</td>\n",
       "    </tr>\n",
       "    <tr>\n",
       "      <th>342</th>\n",
       "      <td>-0.959464</td>\n",
       "      <td>0.529164</td>\n",
       "      <td>-0.030434</td>\n",
       "      <td>-0.157877</td>\n",
       "      <td>-0.491351</td>\n",
       "      <td>-8.216687</td>\n",
       "      <td>-0.877250</td>\n",
       "    </tr>\n",
       "    <tr>\n",
       "      <th>385</th>\n",
       "      <td>-0.886748</td>\n",
       "      <td>-1.151273</td>\n",
       "      <td>-0.758270</td>\n",
       "      <td>-0.299416</td>\n",
       "      <td>3.056421</td>\n",
       "      <td>-0.852867</td>\n",
       "      <td>-0.877250</td>\n",
       "    </tr>\n",
       "    <tr>\n",
       "      <th>405</th>\n",
       "      <td>-0.886748</td>\n",
       "      <td>-1.151273</td>\n",
       "      <td>-0.758270</td>\n",
       "      <td>-0.299416</td>\n",
       "      <td>3.056421</td>\n",
       "      <td>-0.852867</td>\n",
       "      <td>0.324317</td>\n",
       "    </tr>\n",
       "  </tbody>\n",
       "</table>\n",
       "</div>"
      ],
      "text/plain": [
       "          Age  SystolicBP  DiastolicBP  Blood Glucose level  BodyTemp  \\\n",
       "9    0.931150    1.089310     0.333484             3.415981 -0.491351   \n",
       "20   0.785718    1.649455     1.789157             3.415981 -0.491351   \n",
       "103  0.931150    1.649455     1.789157             3.415981 -0.491351   \n",
       "105  1.512878    1.649455     1.425239             3.062134 -0.491351   \n",
       "112  1.876458    1.649455     1.789157             3.415981 -0.491351   \n",
       "116  0.785718    2.769747     1.789157             3.769828 -0.491351   \n",
       "117  0.203991    1.649455     1.061321             3.415981 -0.491351   \n",
       "120  1.876458    1.649455     1.425239             3.769828 -0.491351   \n",
       "152 -0.886748   -1.151273    -0.758270            -0.794802  3.056421   \n",
       "163  0.785718    1.649455     1.789157             3.415981 -0.491351   \n",
       "206 -0.886748   -1.151273    -0.758270            -0.228646  3.056421   \n",
       "232  1.876458    0.529164     1.061321             3.415981 -0.491351   \n",
       "233  0.422139   -1.431346    -1.122188             3.769828 -0.491351   \n",
       "234  1.003866    0.529164     1.061321             3.415981 -0.491351   \n",
       "245  1.149298    0.529164     0.333484            -0.511724  3.056421   \n",
       "247  2.603617    0.529164     1.061321            -0.511724  3.056421   \n",
       "249  1.149298   -1.151273    -1.122188             3.415981  1.637312   \n",
       "250 -0.523169    0.529164     0.333484            -0.511724  3.056421   \n",
       "268 -0.886748   -1.151273    -0.758270            -0.193262  3.056421   \n",
       "294 -0.886748    1.649455     1.789157            -0.547109  3.056421   \n",
       "311  1.003866    1.089310     0.333484             3.415981 -0.491351   \n",
       "318  0.931150    1.089310     0.333484             3.415981 -0.491351   \n",
       "342 -0.959464    0.529164    -0.030434            -0.157877 -0.491351   \n",
       "385 -0.886748   -1.151273    -0.758270            -0.299416  3.056421   \n",
       "405 -0.886748   -1.151273    -0.758270            -0.299416  3.056421   \n",
       "\n",
       "     HeartRate  RiskLevel  \n",
       "9    -0.484676   1.525884  \n",
       "20    1.969931   1.525884  \n",
       "103   1.969931   1.525884  \n",
       "105  -1.711980   1.525884  \n",
       "112   1.969931   1.525884  \n",
       "116   0.374436   1.525884  \n",
       "117   1.724470   1.525884  \n",
       "120   0.374436   1.525884  \n",
       "152  -0.852867   1.525884  \n",
       "163   0.374436   1.525884  \n",
       "206  -0.852867   1.525884  \n",
       "232  -1.711980   1.525884  \n",
       "233   1.479009   1.525884  \n",
       "234  -0.484676   1.525884  \n",
       "245  -0.484676  -0.877250  \n",
       "247   0.251706  -0.877250  \n",
       "249  -0.484676   1.525884  \n",
       "250   0.251706  -0.877250  \n",
       "268  -0.852867   1.525884  \n",
       "294   0.742627   1.525884  \n",
       "311  -0.484676   0.324317  \n",
       "318  -0.484676   0.324317  \n",
       "342  -8.216687  -0.877250  \n",
       "385  -0.852867  -0.877250  \n",
       "405  -0.852867   0.324317  "
      ]
     },
     "execution_count": 20,
     "metadata": {},
     "output_type": "execute_result"
    }
   ],
   "source": [
    "threshold = 3\n",
    "outliers = z_df[(z_df.abs() > threshold).any(axis=1)]\n",
    "outliers"
   ]
  },
  {
   "cell_type": "code",
   "execution_count": 21,
   "id": "69a81772",
   "metadata": {},
   "outputs": [
    {
     "data": {
      "text/plain": [
       "25"
      ]
     },
     "execution_count": 21,
     "metadata": {},
     "output_type": "execute_result"
    }
   ],
   "source": [
    "len(outliers)"
   ]
  },
  {
   "cell_type": "markdown",
   "id": "b420b1fe",
   "metadata": {},
   "source": [
    "From the looks of it, There are 25 rows with outliers. The columns Blood Glucose level and Body Temperature have the most number of outliers. I will visualize this using a boxplot to confirm my findings. "
   ]
  },
  {
   "cell_type": "code",
   "execution_count": 22,
   "id": "66725765",
   "metadata": {},
   "outputs": [
    {
     "name": "stderr",
     "output_type": "stream",
     "text": [
      "C:\\Users\\karan\\anaconda3\\lib\\site-packages\\seaborn\\_decorators.py:36: FutureWarning: Pass the following variable as a keyword arg: x. From version 0.12, the only valid positional argument will be `data`, and passing other arguments without an explicit keyword will result in an error or misinterpretation.\n",
      "  warnings.warn(\n"
     ]
    },
    {
     "data": {
      "text/plain": [
       "<AxesSubplot:xlabel='SystolicBP'>"
      ]
     },
     "execution_count": 22,
     "metadata": {},
     "output_type": "execute_result"
    },
    {
     "data": {
      "image/png": "[encoded data removed]",
      "text/plain": [
       "<Figure size 640x480 with 1 Axes>"
      ]
     },
     "metadata": {},
     "output_type": "display_data"
    }
   ],
   "source": [
    "sns.boxplot(Features['SystolicBP'])"
   ]
  },
  {
   "cell_type": "code",
   "execution_count": 23,
   "id": "5f437e54",
   "metadata": {},
   "outputs": [
    {
     "name": "stderr",
     "output_type": "stream",
     "text": [
      "C:\\Users\\karan\\anaconda3\\lib\\site-packages\\seaborn\\_decorators.py:36: FutureWarning: Pass the following variable as a keyword arg: x. From version 0.12, the only valid positional argument will be `data`, and passing other arguments without an explicit keyword will result in an error or misinterpretation.\n",
      "  warnings.warn(\n"
     ]
    },
    {
     "data": {
      "text/plain": [
       "<AxesSubplot:xlabel='DiastolicBP'>"
      ]
     },
     "execution_count": 23,
     "metadata": {},
     "output_type": "execute_result"
    },
    {
     "data": {
      "image/png": "[encoded data removed]",
      "text/plain": [
       "<Figure size 640x480 with 1 Axes>"
      ]
     },
     "metadata": {},
     "output_type": "display_data"
    }
   ],
   "source": [
    "sns.boxplot(Features['DiastolicBP'])"
   ]
  },
  {
   "cell_type": "code",
   "execution_count": 24,
   "id": "65245022",
   "metadata": {},
   "outputs": [
    {
     "name": "stderr",
     "output_type": "stream",
     "text": [
      "C:\\Users\\karan\\anaconda3\\lib\\site-packages\\seaborn\\_decorators.py:36: FutureWarning: Pass the following variable as a keyword arg: x. From version 0.12, the only valid positional argument will be `data`, and passing other arguments without an explicit keyword will result in an error or misinterpretation.\n",
      "  warnings.warn(\n"
     ]
    },
    {
     "data": {
      "text/plain": [
       "<AxesSubplot:xlabel='Blood Glucose level'>"
      ]
     },
     "execution_count": 24,
     "metadata": {},
     "output_type": "execute_result"
    },
    {
     "data": {
      "image/png": "[encoded data removed]",
      "text/plain": [
       "<Figure size 640x480 with 1 Axes>"
      ]
     },
     "metadata": {},
     "output_type": "display_data"
    }
   ],
   "source": [
    "sns.boxplot(Features['Blood Glucose level'])"
   ]
  },
  {
   "cell_type": "code",
   "execution_count": 25,
   "id": "3303bbd9",
   "metadata": {},
   "outputs": [
    {
     "name": "stderr",
     "output_type": "stream",
     "text": [
      "C:\\Users\\karan\\anaconda3\\lib\\site-packages\\seaborn\\_decorators.py:36: FutureWarning: Pass the following variable as a keyword arg: x. From version 0.12, the only valid positional argument will be `data`, and passing other arguments without an explicit keyword will result in an error or misinterpretation.\n",
      "  warnings.warn(\n"
     ]
    },
    {
     "data": {
      "text/plain": [
       "<AxesSubplot:xlabel='BodyTemp'>"
      ]
     },
     "execution_count": 25,
     "metadata": {},
     "output_type": "execute_result"
    },
    {
     "data": {
      "image/png": "[encoded data removed]",
      "text/plain": [
       "<Figure size 640x480 with 1 Axes>"
      ]
     },
     "metadata": {},
     "output_type": "display_data"
    }
   ],
   "source": [
    "sns.boxplot(Features['BodyTemp'])"
   ]
  },
  {
   "cell_type": "markdown",
   "id": "b814aa55",
   "metadata": {},
   "source": [
    "As confirmed above from the Z-scores, Blood Glucose levels and Body Temperature have the most number of outliers. However, after looking into these data points, they do not seem to be incorrect observations, they are indeed outliers, but they do not seem to be incorrect observations. Therefore, I will keep them in the dataset. I want to visualize the distribution of these columns"
   ]
  },
  {
   "cell_type": "code",
   "execution_count": 26,
   "id": "991bfad5",
   "metadata": {},
   "outputs": [
    {
     "data": {
      "text/plain": [
       "<AxesSubplot:xlabel='Blood Glucose level', ylabel='Count'>"
      ]
     },
     "execution_count": 26,
     "metadata": {},
     "output_type": "execute_result"
    },
    {
     "data": {
      "image/png": "[encoded data removed]",
      "text/plain": [
       "<Figure size 640x480 with 1 Axes>"
      ]
     },
     "metadata": {},
     "output_type": "display_data"
    }
   ],
   "source": [
    "sns.histplot(data=Features, x='Blood Glucose level')"
   ]
  },
  {
   "cell_type": "code",
   "execution_count": 27,
   "id": "8c270a94",
   "metadata": {},
   "outputs": [
    {
     "data": {
      "text/plain": [
       "<AxesSubplot:xlabel='BodyTemp', ylabel='Count'>"
      ]
     },
     "execution_count": 27,
     "metadata": {},
     "output_type": "execute_result"
    },
    {
     "data": {
      "image/png": "[encoded data removed]",
      "text/plain": [
       "<Figure size 640x480 with 1 Axes>"
      ]
     },
     "metadata": {},
     "output_type": "display_data"
    }
   ],
   "source": [
    "sns.histplot(data=Features, x='BodyTemp')"
   ]
  },
  {
   "cell_type": "code",
   "execution_count": 28,
   "id": "35e215b2",
   "metadata": {},
   "outputs": [
    {
     "data": {
      "text/html": [
       "<div>\n",
       "<style scoped>\n",
       "    .dataframe tbody tr th:only-of-type {\n",
       "        vertical-align: middle;\n",
       "    }\n",
       "\n",
       "    .dataframe tbody tr th {\n",
       "        vertical-align: top;\n",
       "    }\n",
       "\n",
       "    .dataframe thead th {\n",
       "        text-align: right;\n",
       "    }\n",
       "</style>\n",
       "<table border=\"1\" class=\"dataframe\">\n",
       "  <thead>\n",
       "    <tr style=\"text-align: right;\">\n",
       "      <th></th>\n",
       "      <th>SystolicBP</th>\n",
       "      <th>DiastolicBP</th>\n",
       "      <th>Blood Glucose level</th>\n",
       "      <th>BodyTemp</th>\n",
       "    </tr>\n",
       "  </thead>\n",
       "  <tbody>\n",
       "    <tr>\n",
       "      <th>0</th>\n",
       "      <td>130</td>\n",
       "      <td>80</td>\n",
       "      <td>15.0</td>\n",
       "      <td>98.0</td>\n",
       "    </tr>\n",
       "    <tr>\n",
       "      <th>1</th>\n",
       "      <td>140</td>\n",
       "      <td>90</td>\n",
       "      <td>13.0</td>\n",
       "      <td>98.0</td>\n",
       "    </tr>\n",
       "    <tr>\n",
       "      <th>2</th>\n",
       "      <td>90</td>\n",
       "      <td>70</td>\n",
       "      <td>8.0</td>\n",
       "      <td>100.0</td>\n",
       "    </tr>\n",
       "    <tr>\n",
       "      <th>3</th>\n",
       "      <td>140</td>\n",
       "      <td>85</td>\n",
       "      <td>7.0</td>\n",
       "      <td>98.0</td>\n",
       "    </tr>\n",
       "    <tr>\n",
       "      <th>4</th>\n",
       "      <td>120</td>\n",
       "      <td>60</td>\n",
       "      <td>6.1</td>\n",
       "      <td>98.0</td>\n",
       "    </tr>\n",
       "    <tr>\n",
       "      <th>...</th>\n",
       "      <td>...</td>\n",
       "      <td>...</td>\n",
       "      <td>...</td>\n",
       "      <td>...</td>\n",
       "    </tr>\n",
       "    <tr>\n",
       "      <th>447</th>\n",
       "      <td>100</td>\n",
       "      <td>50</td>\n",
       "      <td>6.4</td>\n",
       "      <td>98.0</td>\n",
       "    </tr>\n",
       "    <tr>\n",
       "      <th>448</th>\n",
       "      <td>100</td>\n",
       "      <td>60</td>\n",
       "      <td>6.0</td>\n",
       "      <td>98.0</td>\n",
       "    </tr>\n",
       "    <tr>\n",
       "      <th>449</th>\n",
       "      <td>100</td>\n",
       "      <td>49</td>\n",
       "      <td>7.6</td>\n",
       "      <td>98.0</td>\n",
       "    </tr>\n",
       "    <tr>\n",
       "      <th>450</th>\n",
       "      <td>100</td>\n",
       "      <td>50</td>\n",
       "      <td>6.0</td>\n",
       "      <td>98.0</td>\n",
       "    </tr>\n",
       "    <tr>\n",
       "      <th>451</th>\n",
       "      <td>100</td>\n",
       "      <td>50</td>\n",
       "      <td>6.8</td>\n",
       "      <td>98.0</td>\n",
       "    </tr>\n",
       "  </tbody>\n",
       "</table>\n",
       "<p>452 rows × 4 columns</p>\n",
       "</div>"
      ],
      "text/plain": [
       "     SystolicBP  DiastolicBP  Blood Glucose level  BodyTemp\n",
       "0           130           80                 15.0      98.0\n",
       "1           140           90                 13.0      98.0\n",
       "2            90           70                  8.0     100.0\n",
       "3           140           85                  7.0      98.0\n",
       "4           120           60                  6.1      98.0\n",
       "..          ...          ...                  ...       ...\n",
       "447         100           50                  6.4      98.0\n",
       "448         100           60                  6.0      98.0\n",
       "449         100           49                  7.6      98.0\n",
       "450         100           50                  6.0      98.0\n",
       "451         100           50                  6.8      98.0\n",
       "\n",
       "[452 rows x 4 columns]"
      ]
     },
     "execution_count": 28,
     "metadata": {},
     "output_type": "execute_result"
    }
   ],
   "source": [
    "Features"
   ]
  },
  {
   "cell_type": "markdown",
   "id": "f0f5690f",
   "metadata": {},
   "source": [
    "So far, I've only considered the features that have a linear relationship with the target value 'Risklevel'. Other features might also have some kind of a relationship for feature selection. "
   ]
  },
  {
   "cell_type": "code",
   "execution_count": 29,
   "id": "30d854b7",
   "metadata": {},
   "outputs": [
    {
     "data": {
      "text/html": [
       "<div>\n",
       "<style scoped>\n",
       "    .dataframe tbody tr th:only-of-type {\n",
       "        vertical-align: middle;\n",
       "    }\n",
       "\n",
       "    .dataframe tbody tr th {\n",
       "        vertical-align: top;\n",
       "    }\n",
       "\n",
       "    .dataframe thead th {\n",
       "        text-align: right;\n",
       "    }\n",
       "</style>\n",
       "<table border=\"1\" class=\"dataframe\">\n",
       "  <thead>\n",
       "    <tr style=\"text-align: right;\">\n",
       "      <th></th>\n",
       "      <th>Age</th>\n",
       "      <th>SystolicBP</th>\n",
       "      <th>DiastolicBP</th>\n",
       "      <th>Blood Glucose level</th>\n",
       "      <th>BodyTemp</th>\n",
       "      <th>HeartRate</th>\n",
       "      <th>RiskLevel</th>\n",
       "    </tr>\n",
       "  </thead>\n",
       "  <tbody>\n",
       "    <tr>\n",
       "      <th>0</th>\n",
       "      <td>25</td>\n",
       "      <td>130</td>\n",
       "      <td>80</td>\n",
       "      <td>15.0</td>\n",
       "      <td>98.0</td>\n",
       "      <td>86</td>\n",
       "      <td>3</td>\n",
       "    </tr>\n",
       "    <tr>\n",
       "      <th>1</th>\n",
       "      <td>35</td>\n",
       "      <td>140</td>\n",
       "      <td>90</td>\n",
       "      <td>13.0</td>\n",
       "      <td>98.0</td>\n",
       "      <td>70</td>\n",
       "      <td>3</td>\n",
       "    </tr>\n",
       "    <tr>\n",
       "      <th>2</th>\n",
       "      <td>29</td>\n",
       "      <td>90</td>\n",
       "      <td>70</td>\n",
       "      <td>8.0</td>\n",
       "      <td>100.0</td>\n",
       "      <td>80</td>\n",
       "      <td>3</td>\n",
       "    </tr>\n",
       "    <tr>\n",
       "      <th>3</th>\n",
       "      <td>30</td>\n",
       "      <td>140</td>\n",
       "      <td>85</td>\n",
       "      <td>7.0</td>\n",
       "      <td>98.0</td>\n",
       "      <td>70</td>\n",
       "      <td>3</td>\n",
       "    </tr>\n",
       "    <tr>\n",
       "      <th>4</th>\n",
       "      <td>35</td>\n",
       "      <td>120</td>\n",
       "      <td>60</td>\n",
       "      <td>6.1</td>\n",
       "      <td>98.0</td>\n",
       "      <td>76</td>\n",
       "      <td>1</td>\n",
       "    </tr>\n",
       "    <tr>\n",
       "      <th>...</th>\n",
       "      <td>...</td>\n",
       "      <td>...</td>\n",
       "      <td>...</td>\n",
       "      <td>...</td>\n",
       "      <td>...</td>\n",
       "      <td>...</td>\n",
       "      <td>...</td>\n",
       "    </tr>\n",
       "    <tr>\n",
       "      <th>447</th>\n",
       "      <td>12</td>\n",
       "      <td>100</td>\n",
       "      <td>50</td>\n",
       "      <td>6.4</td>\n",
       "      <td>98.0</td>\n",
       "      <td>70</td>\n",
       "      <td>2</td>\n",
       "    </tr>\n",
       "    <tr>\n",
       "      <th>448</th>\n",
       "      <td>15</td>\n",
       "      <td>100</td>\n",
       "      <td>60</td>\n",
       "      <td>6.0</td>\n",
       "      <td>98.0</td>\n",
       "      <td>80</td>\n",
       "      <td>1</td>\n",
       "    </tr>\n",
       "    <tr>\n",
       "      <th>449</th>\n",
       "      <td>15</td>\n",
       "      <td>100</td>\n",
       "      <td>49</td>\n",
       "      <td>7.6</td>\n",
       "      <td>98.0</td>\n",
       "      <td>77</td>\n",
       "      <td>1</td>\n",
       "    </tr>\n",
       "    <tr>\n",
       "      <th>450</th>\n",
       "      <td>12</td>\n",
       "      <td>100</td>\n",
       "      <td>50</td>\n",
       "      <td>6.0</td>\n",
       "      <td>98.0</td>\n",
       "      <td>70</td>\n",
       "      <td>2</td>\n",
       "    </tr>\n",
       "    <tr>\n",
       "      <th>451</th>\n",
       "      <td>21</td>\n",
       "      <td>100</td>\n",
       "      <td>50</td>\n",
       "      <td>6.8</td>\n",
       "      <td>98.0</td>\n",
       "      <td>60</td>\n",
       "      <td>1</td>\n",
       "    </tr>\n",
       "  </tbody>\n",
       "</table>\n",
       "<p>452 rows × 7 columns</p>\n",
       "</div>"
      ],
      "text/plain": [
       "     Age  SystolicBP  DiastolicBP  Blood Glucose level  BodyTemp  HeartRate  \\\n",
       "0     25         130           80                 15.0      98.0         86   \n",
       "1     35         140           90                 13.0      98.0         70   \n",
       "2     29          90           70                  8.0     100.0         80   \n",
       "3     30         140           85                  7.0      98.0         70   \n",
       "4     35         120           60                  6.1      98.0         76   \n",
       "..   ...         ...          ...                  ...       ...        ...   \n",
       "447   12         100           50                  6.4      98.0         70   \n",
       "448   15         100           60                  6.0      98.0         80   \n",
       "449   15         100           49                  7.6      98.0         77   \n",
       "450   12         100           50                  6.0      98.0         70   \n",
       "451   21         100           50                  6.8      98.0         60   \n",
       "\n",
       "     RiskLevel  \n",
       "0            3  \n",
       "1            3  \n",
       "2            3  \n",
       "3            3  \n",
       "4            1  \n",
       "..         ...  \n",
       "447          2  \n",
       "448          1  \n",
       "449          1  \n",
       "450          2  \n",
       "451          1  \n",
       "\n",
       "[452 rows x 7 columns]"
      ]
     },
     "execution_count": 29,
     "metadata": {},
     "output_type": "execute_result"
    }
   ],
   "source": [
    "df"
   ]
  },
  {
   "cell_type": "markdown",
   "id": "81050632",
   "metadata": {},
   "source": [
    "Now creating the Machine learning models: "
   ]
  },
  {
   "cell_type": "markdown",
   "id": "ff44f6e6",
   "metadata": {},
   "source": [
    "## Classification Models"
   ]
  },
  {
   "cell_type": "markdown",
   "id": "44ca7a0c",
   "metadata": {},
   "source": [
    "### 1) Logistic Regression"
   ]
  },
  {
   "cell_type": "code",
   "execution_count": 30,
   "id": "a6f23583",
   "metadata": {},
   "outputs": [
    {
     "name": "stderr",
     "output_type": "stream",
     "text": [
      "C:\\Users\\karan\\anaconda3\\lib\\site-packages\\sklearn\\linear_model\\_logistic.py:469: ConvergenceWarning: lbfgs failed to converge (status=1):\n",
      "STOP: TOTAL NO. of ITERATIONS REACHED LIMIT.\n",
      "\n",
      "Increase the number of iterations (max_iter) or scale the data as shown in:\n",
      "    https://scikit-learn.org/stable/modules/preprocessing.html\n",
      "Please also refer to the documentation for alternative solver options:\n",
      "    https://scikit-learn.org/stable/modules/linear_model.html#logistic-regression\n",
      "  n_iter_i = _check_optimize_result(\n"
     ]
    },
    {
     "data": {
      "text/plain": [
       "array([3, 1, 2, 1, 1, 1, 3, 1, 1, 1, 3, 1, 1, 1, 1, 1, 1, 1, 1, 1, 1, 1,\n",
       "       1, 3, 1, 1, 1, 1, 3, 1, 1, 1, 2, 3, 1, 1, 1, 1, 3, 1, 1, 1, 1, 2,\n",
       "       1, 3, 2, 1, 1, 1, 1, 1, 2, 1, 1, 1, 1, 1, 1, 1, 1, 3, 1, 1, 1, 1,\n",
       "       1, 1, 1, 1, 3, 1, 1, 1, 3, 1, 1, 1, 1, 3, 3, 1, 1, 1, 1, 1, 1, 1,\n",
       "       1, 1, 1, 1, 1, 1, 1, 2, 1, 1, 3, 1, 1, 3, 2, 1, 3, 1, 1, 1, 1, 1,\n",
       "       2, 1, 3, 1, 1, 1, 3, 3, 1, 1, 1, 1, 1, 1, 1, 1, 3, 1, 1, 1, 1, 1,\n",
       "       1, 1, 1, 3], dtype=int64)"
      ]
     },
     "execution_count": 30,
     "metadata": {},
     "output_type": "execute_result"
    }
   ],
   "source": [
    "import numpy as np\n",
    "from sklearn.linear_model import LogisticRegression\n",
    "\n",
    "X=df[[\"SystolicBP\", \"DiastolicBP\", \"Blood Glucose level\",\"BodyTemp\"]]\n",
    "y=df['RiskLevel']\n",
    "\n",
    "logreg=LogisticRegression()\n",
    "\n",
    "X_train, X_test, y_train, y_test = train_test_split(X,y, train_size=0.70, random_state= 42)\n",
    "\n",
    "logreg.fit(X_train, y_train)\n",
    "y_pred=logreg.predict(X_test)\n",
    "y_pred"
   ]
  },
  {
   "cell_type": "code",
   "execution_count": 31,
   "id": "98f2485d",
   "metadata": {},
   "outputs": [
    {
     "data": {
      "text/plain": [
       "array([3, 1, 2, 1, 3, 1, 3, 3, 2, 1, 2, 3, 1, 1, 1, 1, 2, 1, 1, 2, 2, 3,\n",
       "       1, 3, 3, 1, 2, 1, 3, 1, 1, 1, 1, 3, 1, 2, 1, 2, 3, 2, 2, 2, 2, 2,\n",
       "       2, 2, 2, 1, 3, 1, 1, 1, 1, 1, 1, 2, 2, 2, 1, 1, 1, 3, 1, 2, 2, 1,\n",
       "       1, 1, 1, 1, 3, 1, 1, 2, 3, 1, 1, 1, 1, 3, 3, 1, 2, 1, 1, 3, 2, 1,\n",
       "       2, 1, 1, 1, 3, 2, 1, 2, 1, 2, 2, 2, 1, 3, 2, 1, 3, 3, 1, 2, 3, 1,\n",
       "       3, 1, 3, 2, 2, 2, 3, 3, 1, 1, 3, 2, 1, 1, 1, 1, 3, 2, 3, 2, 1, 1,\n",
       "       3, 1, 1, 3], dtype=int64)"
      ]
     },
     "execution_count": 31,
     "metadata": {},
     "output_type": "execute_result"
    }
   ],
   "source": [
    "np.array(y_test)"
   ]
  },
  {
   "cell_type": "code",
   "execution_count": 32,
   "id": "c375a9ee",
   "metadata": {},
   "outputs": [
    {
     "data": {
      "text/plain": [
       "array([[63,  2,  0],\n",
       "       [31,  5,  3],\n",
       "       [13,  1, 18]], dtype=int64)"
      ]
     },
     "execution_count": 32,
     "metadata": {},
     "output_type": "execute_result"
    }
   ],
   "source": [
    "confusion_matrix(y_test, y_pred)"
   ]
  },
  {
   "cell_type": "code",
   "execution_count": 33,
   "id": "b7dffcda",
   "metadata": {},
   "outputs": [
    {
     "name": "stdout",
     "output_type": "stream",
     "text": [
      "              precision    recall  f1-score   support\n",
      "\n",
      "           1       0.59      0.97      0.73        65\n",
      "           2       0.62      0.13      0.21        39\n",
      "           3       0.86      0.56      0.68        32\n",
      "\n",
      "    accuracy                           0.63       136\n",
      "   macro avg       0.69      0.55      0.54       136\n",
      "weighted avg       0.66      0.63      0.57       136\n",
      "\n"
     ]
    }
   ],
   "source": [
    "print(classification_report(y_test, y_pred))"
   ]
  },
  {
   "cell_type": "markdown",
   "id": "32baa936",
   "metadata": {},
   "source": [
    "For the first logisitic regression model, I get an accuracy of 63%. I want to refine some parameteres to try and improve the model. I'll now use all the features, not just the ones I selected from the pearson correlation "
   ]
  },
  {
   "cell_type": "code",
   "execution_count": 34,
   "id": "413cfcca",
   "metadata": {},
   "outputs": [
    {
     "name": "stderr",
     "output_type": "stream",
     "text": [
      "C:\\Users\\karan\\anaconda3\\lib\\site-packages\\sklearn\\linear_model\\_logistic.py:469: ConvergenceWarning: lbfgs failed to converge (status=1):\n",
      "STOP: TOTAL NO. of ITERATIONS REACHED LIMIT.\n",
      "\n",
      "Increase the number of iterations (max_iter) or scale the data as shown in:\n",
      "    https://scikit-learn.org/stable/modules/preprocessing.html\n",
      "Please also refer to the documentation for alternative solver options:\n",
      "    https://scikit-learn.org/stable/modules/linear_model.html#logistic-regression\n",
      "  n_iter_i = _check_optimize_result(\n"
     ]
    },
    {
     "data": {
      "text/plain": [
       "array([3, 1, 2, 1, 1, 1, 3, 1, 1, 1, 3, 1, 1, 1, 1, 1, 1, 1, 1, 1, 1, 1,\n",
       "       1, 3, 1, 1, 1, 1, 3, 1, 1, 1, 2, 3, 1, 1, 1, 1, 3, 1, 1, 1, 1, 2,\n",
       "       1, 3, 2, 1, 1, 1, 1, 1, 1, 1, 1, 1, 1, 1, 1, 1, 1, 3, 1, 1, 1, 1,\n",
       "       1, 1, 1, 1, 3, 1, 1, 1, 3, 1, 1, 1, 1, 3, 3, 1, 1, 1, 1, 1, 1, 1,\n",
       "       1, 1, 1, 1, 1, 1, 1, 2, 1, 1, 3, 1, 1, 3, 2, 1, 3, 1, 1, 1, 1, 1,\n",
       "       2, 1, 3, 1, 1, 1, 3, 3, 1, 1, 1, 1, 1, 1, 1, 1, 3, 1, 3, 1, 1, 1,\n",
       "       1, 1, 1, 3], dtype=int64)"
      ]
     },
     "execution_count": 34,
     "metadata": {},
     "output_type": "execute_result"
    }
   ],
   "source": [
    "X=df.drop(columns=\"RiskLevel\")\n",
    "y=df['RiskLevel']\n",
    "\n",
    "logreg=LogisticRegression()\n",
    "\n",
    "X_train, X_test, y_train, y_test = train_test_split(X,y, train_size=0.70, random_state= 42)\n",
    "\n",
    "logreg.fit(X_train, y_train)\n",
    "y_pred=logreg.predict(X_test)\n",
    "y_pred"
   ]
  },
  {
   "cell_type": "code",
   "execution_count": 35,
   "id": "db2b6305",
   "metadata": {},
   "outputs": [
    {
     "data": {
      "text/plain": [
       "array([3, 1, 2, 1, 3, 1, 3, 3, 2, 1, 2, 3, 1, 1, 1, 1, 2, 1, 1, 2, 2, 3,\n",
       "       1, 3, 3, 1, 2, 1, 3, 1, 1, 1, 1, 3, 1, 2, 1, 2, 3, 2, 2, 2, 2, 2,\n",
       "       2, 2, 2, 1, 3, 1, 1, 1, 1, 1, 1, 2, 2, 2, 1, 1, 1, 3, 1, 2, 2, 1,\n",
       "       1, 1, 1, 1, 3, 1, 1, 2, 3, 1, 1, 1, 1, 3, 3, 1, 2, 1, 1, 3, 2, 1,\n",
       "       2, 1, 1, 1, 3, 2, 1, 2, 1, 2, 2, 2, 1, 3, 2, 1, 3, 3, 1, 2, 3, 1,\n",
       "       3, 1, 3, 2, 2, 2, 3, 3, 1, 1, 3, 2, 1, 1, 1, 1, 3, 2, 3, 2, 1, 1,\n",
       "       3, 1, 1, 3], dtype=int64)"
      ]
     },
     "execution_count": 35,
     "metadata": {},
     "output_type": "execute_result"
    }
   ],
   "source": [
    "np.array(y_test)"
   ]
  },
  {
   "cell_type": "code",
   "execution_count": 36,
   "id": "ccd67110",
   "metadata": {},
   "outputs": [
    {
     "data": {
      "text/plain": [
       "array([[64,  1,  0],\n",
       "       [31,  5,  3],\n",
       "       [12,  1, 19]], dtype=int64)"
      ]
     },
     "execution_count": 36,
     "metadata": {},
     "output_type": "execute_result"
    }
   ],
   "source": [
    "confusion_matrix(y_test, y_pred)"
   ]
  },
  {
   "cell_type": "code",
   "execution_count": 37,
   "id": "b0e1bb62",
   "metadata": {},
   "outputs": [
    {
     "name": "stdout",
     "output_type": "stream",
     "text": [
      "              precision    recall  f1-score   support\n",
      "\n",
      "           1       0.60      0.98      0.74        65\n",
      "           2       0.71      0.13      0.22        39\n",
      "           3       0.86      0.59      0.70        32\n",
      "\n",
      "    accuracy                           0.65       136\n",
      "   macro avg       0.73      0.57      0.56       136\n",
      "weighted avg       0.69      0.65      0.58       136\n",
      "\n"
     ]
    }
   ],
   "source": [
    "print(classification_report(y_test, y_pred))"
   ]
  },
  {
   "cell_type": "code",
   "execution_count": 38,
   "id": "1c230121",
   "metadata": {},
   "outputs": [
    {
     "data": {
      "text/plain": [
       "0.6470588235294118"
      ]
     },
     "execution_count": 38,
     "metadata": {},
     "output_type": "execute_result"
    }
   ],
   "source": [
    "logreg.score(X_test,y_test)"
   ]
  },
  {
   "cell_type": "markdown",
   "id": "41f66c85",
   "metadata": {},
   "source": [
    "Accuracy: 66%\n",
    "Using all features does increase the accuracy a little bit compared to just using the initial features. "
   ]
  },
  {
   "cell_type": "markdown",
   "id": "37769675",
   "metadata": {},
   "source": [
    "### 2) K-Nearest Neighbors"
   ]
  },
  {
   "cell_type": "markdown",
   "id": "604456c6",
   "metadata": {},
   "source": [
    "I will apply the K-Nearest Neighbors Classifier. I will first, just randomly apply 15 neighbours just to see how the model performs"
   ]
  },
  {
   "cell_type": "code",
   "execution_count": 41,
   "id": "0d656ba3",
   "metadata": {},
   "outputs": [
    {
     "data": {
      "text/plain": [
       "array([1, 1, 1, 1, 2, 1, 3, 1, 1, 1, 1, 3, 1, 1, 1, 3, 3, 1, 3, 3, 1, 1,\n",
       "       1, 1, 1, 1, 1, 1, 1, 1, 1, 1, 1, 3, 1, 1, 1, 3, 1, 3, 1, 1, 1, 1,\n",
       "       1, 3, 1, 3, 1, 1, 1, 1, 1, 2, 1, 1, 3, 2, 1, 1, 1, 2, 2, 1, 1, 1,\n",
       "       1, 1, 2, 3, 1, 1, 1, 3, 1, 1, 1, 1, 1, 1, 1, 1, 2, 1, 3, 1, 1, 1,\n",
       "       1, 1, 1, 1, 1, 1, 1, 1, 3, 2, 3, 1, 1, 1, 1, 1, 1, 3, 3, 1, 1, 1,\n",
       "       1, 3, 1], dtype=int64)"
      ]
     },
     "execution_count": 41,
     "metadata": {},
     "output_type": "execute_result"
    }
   ],
   "source": [
    "from sklearn.neighbors import KNeighborsClassifier\n",
    "\n",
    "knn=KNeighborsClassifier(n_neighbors=15)\n",
    "\n",
    "X_train, X_test, y_train,y_test = train_test_split(X,y, train_size=0.75, random_state= 42, stratify=y)\n",
    "knn.fit(X,y)\n",
    "predictions=knn.predict(X_test)\n",
    "predictions"
   ]
  },
  {
   "cell_type": "code",
   "execution_count": 42,
   "id": "f67349af",
   "metadata": {},
   "outputs": [
    {
     "data": {
      "text/plain": [
       "array([3, 1, 1, 2, 2, 2, 3, 3, 2, 1, 2, 3, 2, 2, 1, 3, 3, 1, 3, 2, 1, 1,\n",
       "       1, 3, 1, 1, 1, 2, 1, 2, 1, 1, 1, 1, 1, 1, 1, 3, 1, 3, 1, 1, 2, 1,\n",
       "       1, 3, 1, 3, 1, 1, 3, 3, 1, 2, 1, 2, 3, 2, 1, 1, 1, 2, 3, 2, 1, 2,\n",
       "       2, 1, 2, 3, 1, 1, 2, 3, 1, 1, 1, 1, 1, 3, 1, 2, 3, 1, 3, 1, 2, 1,\n",
       "       1, 1, 1, 2, 1, 1, 3, 1, 3, 3, 2, 1, 1, 3, 1, 1, 1, 3, 3, 2, 1, 1,\n",
       "       2, 3, 1], dtype=int64)"
      ]
     },
     "execution_count": 42,
     "metadata": {},
     "output_type": "execute_result"
    }
   ],
   "source": [
    "np.array(y_test)"
   ]
  },
  {
   "cell_type": "code",
   "execution_count": 43,
   "id": "7278f731",
   "metadata": {},
   "outputs": [
    {
     "data": {
      "text/plain": [
       "0.7079646017699115"
      ]
     },
     "execution_count": 43,
     "metadata": {},
     "output_type": "execute_result"
    }
   ],
   "source": [
    "knn.score(X_test,y_test)"
   ]
  },
  {
   "cell_type": "code",
   "execution_count": 44,
   "id": "efccfaf5",
   "metadata": {},
   "outputs": [
    {
     "data": {
      "text/plain": [
       "array([[58,  0,  1],\n",
       "       [19,  5,  2],\n",
       "       [ 8,  3, 17]], dtype=int64)"
      ]
     },
     "execution_count": 44,
     "metadata": {},
     "output_type": "execute_result"
    }
   ],
   "source": [
    "confusion_matrix(y_test, predictions)"
   ]
  },
  {
   "cell_type": "code",
   "execution_count": 45,
   "id": "9007b90f",
   "metadata": {},
   "outputs": [
    {
     "name": "stdout",
     "output_type": "stream",
     "text": [
      "              precision    recall  f1-score   support\n",
      "\n",
      "           1       0.68      0.98      0.81        59\n",
      "           2       0.62      0.19      0.29        26\n",
      "           3       0.85      0.61      0.71        28\n",
      "\n",
      "    accuracy                           0.71       113\n",
      "   macro avg       0.72      0.59      0.60       113\n",
      "weighted avg       0.71      0.71      0.66       113\n",
      "\n"
     ]
    }
   ],
   "source": [
    "print(classification_report(y_test, predictions))"
   ]
  },
  {
   "cell_type": "markdown",
   "id": "a7f83a23",
   "metadata": {},
   "source": [
    "The model seems to perform well with 71% accuracy. I want to further check the optimal number of neighbours to use for the model. "
   ]
  },
  {
   "cell_type": "code",
   "execution_count": 46,
   "id": "e832a0e6",
   "metadata": {},
   "outputs": [
    {
     "name": "stdout",
     "output_type": "stream",
     "text": [
      "[ 1  2  3  4  5  6  7  8  9 10 11 12 13 14 15] \n",
      " {1: 0.9351032448377581, 2: 0.7581120943952803, 3: 0.7551622418879056, 4: 0.7197640117994101, 5: 0.7286135693215339, 6: 0.7020648967551623, 7: 0.7109144542772862, 8: 0.6784660766961652, 9: 0.6784660766961652, 10: 0.6607669616519174, 11: 0.6696165191740413, 12: 0.6755162241887905, 13: 0.6637168141592921, 14: 0.6578171091445427, 15: 0.6519174041297935} \n",
      " {1: 0.5663716814159292, 2: 0.6371681415929203, 3: 0.6460176991150443, 4: 0.6548672566371682, 5: 0.5929203539823009, 6: 0.6371681415929203, 7: 0.6548672566371682, 8: 0.6548672566371682, 9: 0.672566371681416, 10: 0.6814159292035398, 11: 0.6814159292035398, 12: 0.6637168141592921, 13: 0.6194690265486725, 14: 0.6371681415929203, 15: 0.6460176991150443}\n"
     ]
    }
   ],
   "source": [
    "neighbors = np.arange(1, 16)\n",
    "train_accuracies = {}\n",
    "test_accuracies = {}\n",
    "\n",
    "for neighbor in neighbors:\n",
    "    knn = KNeighborsClassifier(n_neighbors=neighbor)\n",
    "    knn.fit(X_train, y_train)\n",
    "    train_accuracies[neighbor] = knn.score(X_train, y_train)\n",
    "    test_accuracies[neighbor] = knn.score(X_test, y_test)\n",
    "\n",
    "print(neighbors, '\\n', train_accuracies, '\\n', test_accuracies)"
   ]
  },
  {
   "cell_type": "code",
   "execution_count": 47,
   "id": "0f586734",
   "metadata": {},
   "outputs": [
    {
     "data": {
      "image/png": "[encoded data removed]",
      "text/plain": [
       "<Figure size 640x480 with 1 Axes>"
      ]
     },
     "metadata": {},
     "output_type": "display_data"
    }
   ],
   "source": [
    "plt.title(\"KNN: Varying Number of Neighbors\")\n",
    "\n",
    "plt.plot(neighbors,train_accuracies.values(),label=\"Training Accuracy\")\n",
    "\n",
    "plt.plot(neighbors, test_accuracies.values(), label=\"Testing Accuracy\")\n",
    "\n",
    "plt.legend()\n",
    "plt.xlabel(\"Number of Neighbors\")\n",
    "plt.ylabel(\"Accuracy\")\n",
    "\n",
    "plt.grid()\n",
    "plt.show()"
   ]
  },
  {
   "cell_type": "markdown",
   "id": "896b29a7",
   "metadata": {},
   "source": [
    "For the Testing set, accuracy peaks at 10 neighbors, therefore, I will now create a Knn model with 10 neighbors to potentially get a better model. "
   ]
  },
  {
   "cell_type": "code",
   "execution_count": 48,
   "id": "c6612f1e",
   "metadata": {},
   "outputs": [
    {
     "data": {
      "text/plain": [
       "array([1, 1, 1, 1, 2, 1, 3, 1, 2, 1, 1, 1, 1, 1, 1, 3, 3, 1, 3, 3, 1, 1,\n",
       "       1, 2, 1, 1, 1, 1, 1, 1, 1, 1, 1, 1, 1, 1, 1, 3, 1, 3, 1, 1, 1, 1,\n",
       "       1, 2, 1, 3, 1, 1, 1, 1, 1, 2, 1, 1, 3, 2, 1, 1, 1, 2, 2, 1, 1, 1,\n",
       "       1, 2, 2, 3, 1, 1, 1, 3, 1, 1, 1, 1, 1, 1, 1, 2, 1, 1, 3, 1, 1, 1,\n",
       "       1, 1, 1, 1, 1, 1, 1, 1, 3, 2, 2, 1, 1, 1, 1, 1, 1, 3, 3, 1, 1, 1,\n",
       "       2, 3, 1], dtype=int64)"
      ]
     },
     "execution_count": 48,
     "metadata": {},
     "output_type": "execute_result"
    }
   ],
   "source": [
    "from sklearn.neighbors import KNeighborsClassifier\n",
    "\n",
    "knn=KNeighborsClassifier(n_neighbors=10)\n",
    "\n",
    "X_train, X_test, y_train,y_test = train_test_split(X,y, train_size=0.75, random_state= 42, stratify=y)\n",
    "knn.fit(X,y)\n",
    "predictions=knn.predict(X_test)\n",
    "predictions"
   ]
  },
  {
   "cell_type": "code",
   "execution_count": 49,
   "id": "9e4df988",
   "metadata": {},
   "outputs": [
    {
     "data": {
      "text/plain": [
       "array([3, 1, 1, 2, 2, 2, 3, 3, 2, 1, 2, 3, 2, 2, 1, 3, 3, 1, 3, 2, 1, 1,\n",
       "       1, 3, 1, 1, 1, 2, 1, 2, 1, 1, 1, 1, 1, 1, 1, 3, 1, 3, 1, 1, 2, 1,\n",
       "       1, 3, 1, 3, 1, 1, 3, 3, 1, 2, 1, 2, 3, 2, 1, 1, 1, 2, 3, 2, 1, 2,\n",
       "       2, 1, 2, 3, 1, 1, 2, 3, 1, 1, 1, 1, 1, 3, 1, 2, 3, 1, 3, 1, 2, 1,\n",
       "       1, 1, 1, 2, 1, 1, 3, 1, 3, 3, 2, 1, 1, 3, 1, 1, 1, 3, 3, 2, 1, 1,\n",
       "       2, 3, 1], dtype=int64)"
      ]
     },
     "execution_count": 49,
     "metadata": {},
     "output_type": "execute_result"
    }
   ],
   "source": [
    "np.array(y_test)"
   ]
  },
  {
   "cell_type": "code",
   "execution_count": 50,
   "id": "04aa5aa7",
   "metadata": {},
   "outputs": [
    {
     "data": {
      "text/plain": [
       "array([[58,  1,  0],\n",
       "       [16,  9,  1],\n",
       "       [ 9,  4, 15]], dtype=int64)"
      ]
     },
     "execution_count": 50,
     "metadata": {},
     "output_type": "execute_result"
    }
   ],
   "source": [
    "confusion_matrix(y_test,predictions)"
   ]
  },
  {
   "cell_type": "code",
   "execution_count": 51,
   "id": "564da065",
   "metadata": {},
   "outputs": [
    {
     "name": "stdout",
     "output_type": "stream",
     "text": [
      "              precision    recall  f1-score   support\n",
      "\n",
      "           1       0.70      0.98      0.82        59\n",
      "           2       0.64      0.35      0.45        26\n",
      "           3       0.94      0.54      0.68        28\n",
      "\n",
      "    accuracy                           0.73       113\n",
      "   macro avg       0.76      0.62      0.65       113\n",
      "weighted avg       0.75      0.73      0.70       113\n",
      "\n"
     ]
    }
   ],
   "source": [
    "print(classification_report(y_test, predictions))"
   ]
  },
  {
   "cell_type": "markdown",
   "id": "153dccde",
   "metadata": {},
   "source": [
    "Now, the model performs slightly better with a 73% accuracy. "
   ]
  },
  {
   "cell_type": "markdown",
   "id": "4b0026fb",
   "metadata": {},
   "source": [
    "I want to now perform GridSearchCV and KFold validation to see if the model performs better "
   ]
  },
  {
   "cell_type": "code",
   "execution_count": 52,
   "id": "4ccdfbd3",
   "metadata": {},
   "outputs": [
    {
     "name": "stdout",
     "output_type": "stream",
     "text": [
      "Fitting 5 folds for each of 28 candidates, totalling 140 fits\n",
      "{'n_neighbors': 9}\n"
     ]
    }
   ],
   "source": [
    "from sklearn.model_selection import GridSearchCV\n",
    "\n",
    "kf=KFold(n_splits=5,shuffle=True,random_state=42)\n",
    "parameter={'n_neighbors': np.arange(2, 30, 1)}\n",
    "\n",
    "knn_cv=GridSearchCV(knn, param_grid=parameter, cv=kf, verbose=1)\n",
    "knn_cv.fit(X_train, y_train)\n",
    "print(knn_cv.best_params_)"
   ]
  },
  {
   "cell_type": "code",
   "execution_count": 53,
   "id": "a424ddb7",
   "metadata": {},
   "outputs": [
    {
     "data": {
      "text/plain": [
       "array([3, 1, 1, 1, 2, 2, 3, 1, 1, 1, 1, 1, 1, 1, 1, 3, 3, 1, 3, 3, 1, 1,\n",
       "       1, 2, 1, 1, 3, 1, 1, 1, 1, 1, 1, 1, 1, 1, 1, 3, 1, 3, 1, 1, 1, 1,\n",
       "       1, 3, 1, 3, 1, 1, 1, 1, 2, 2, 1, 1, 3, 2, 1, 1, 1, 2, 1, 1, 1, 1,\n",
       "       1, 1, 2, 3, 1, 1, 1, 3, 1, 1, 1, 1, 1, 1, 1, 2, 1, 1, 3, 1, 1, 1,\n",
       "       1, 1, 1, 1, 1, 1, 1, 1, 3, 2, 3, 1, 1, 1, 1, 1, 1, 3, 3, 1, 1, 1,\n",
       "       2, 3, 3], dtype=int64)"
      ]
     },
     "execution_count": 53,
     "metadata": {},
     "output_type": "execute_result"
    }
   ],
   "source": [
    "knn=KNeighborsClassifier(n_neighbors=9)\n",
    "\n",
    "X_train, X_test, y_train,y_test = train_test_split(X,y, train_size=0.75, random_state= 42, stratify=y)\n",
    "knn.fit(X,y)\n",
    "predictions=knn.predict(X_test)\n",
    "predictions"
   ]
  },
  {
   "cell_type": "code",
   "execution_count": 54,
   "id": "de829784",
   "metadata": {},
   "outputs": [
    {
     "data": {
      "text/plain": [
       "array([[56,  1,  2],\n",
       "       [16,  8,  2],\n",
       "       [ 9,  2, 17]], dtype=int64)"
      ]
     },
     "execution_count": 54,
     "metadata": {},
     "output_type": "execute_result"
    }
   ],
   "source": [
    "confusion_matrix(y_test,predictions)"
   ]
  },
  {
   "cell_type": "code",
   "execution_count": 55,
   "id": "d96c8d0e",
   "metadata": {},
   "outputs": [
    {
     "name": "stdout",
     "output_type": "stream",
     "text": [
      "              precision    recall  f1-score   support\n",
      "\n",
      "           1       0.69      0.95      0.80        59\n",
      "           2       0.73      0.31      0.43        26\n",
      "           3       0.81      0.61      0.69        28\n",
      "\n",
      "    accuracy                           0.72       113\n",
      "   macro avg       0.74      0.62      0.64       113\n",
      "weighted avg       0.73      0.72      0.69       113\n",
      "\n"
     ]
    }
   ],
   "source": [
    "print(classification_report(y_test, predictions))"
   ]
  },
  {
   "cell_type": "markdown",
   "id": "9c0fe99b",
   "metadata": {},
   "source": [
    "With a 72% accuracy, GridSearchCV and KFold validation doesn't improve the model. "
   ]
  },
  {
   "cell_type": "markdown",
   "id": "35462dd8",
   "metadata": {},
   "source": [
    "### 3. Support vector machine"
   ]
  },
  {
   "cell_type": "code",
   "execution_count": 87,
   "id": "4176e1c1",
   "metadata": {},
   "outputs": [
    {
     "data": {
      "text/plain": [
       "array([3, 1, 1, 1, 1, 1, 3, 1, 1, 1, 3, 3, 1, 1, 1, 1, 1, 1, 1, 1, 1, 1,\n",
       "       1, 3, 1, 1, 1, 1, 3, 1, 1, 1, 1, 3, 1, 1, 1, 1, 3, 1, 1, 1, 1, 1,\n",
       "       1, 3, 1, 1, 1, 1, 1, 1, 1, 1, 1, 1, 1, 1, 1, 1, 1, 3, 1, 1, 1, 1,\n",
       "       1, 1, 1, 1, 3, 1, 1, 1, 3, 1, 1, 1, 1, 3, 3, 1, 1, 1, 1, 1, 1, 1,\n",
       "       1, 1, 1, 1, 1, 3, 1, 1, 1, 1, 3, 1, 1, 3, 1, 1, 3, 1, 1, 1, 1, 1,\n",
       "       1, 1, 1, 1, 1, 1, 3, 3, 1, 1, 1, 1, 1, 1, 1, 1, 3, 1, 1, 1, 1, 1,\n",
       "       1, 1, 1, 3], dtype=int64)"
      ]
     },
     "execution_count": 87,
     "metadata": {},
     "output_type": "execute_result"
    }
   ],
   "source": [
    "from sklearn.svm import SVC\n",
    "\n",
    "svc_classifier_linear = SVC(kernel='linear')\n",
    "\n",
    "X_train, X_test, y_train,y_test = train_test_split(X,y, train_size=0.70, random_state= 42)\n",
    "svc_classifier.fit(X_train, y_train)\n",
    "\n",
    "y_pred = svc_classifier.predict(X_test)\n",
    "y_pred"
   ]
  },
  {
   "cell_type": "code",
   "execution_count": 88,
   "id": "24005de9",
   "metadata": {},
   "outputs": [
    {
     "data": {
      "text/plain": [
       "array([3, 1, 2, 1, 3, 1, 3, 3, 2, 1, 2, 3, 1, 1, 1, 1, 2, 1, 1, 2, 2, 3,\n",
       "       1, 3, 3, 1, 2, 1, 3, 1, 1, 1, 1, 3, 1, 2, 1, 2, 3, 2, 2, 2, 2, 2,\n",
       "       2, 2, 2, 1, 3, 1, 1, 1, 1, 1, 1, 2, 2, 2, 1, 1, 1, 3, 1, 2, 2, 1,\n",
       "       1, 1, 1, 1, 3, 1, 1, 2, 3, 1, 1, 1, 1, 3, 3, 1, 2, 1, 1, 3, 2, 1,\n",
       "       2, 1, 1, 1, 3, 2, 1, 2, 1, 2, 2, 2, 1, 3, 2, 1, 3, 3, 1, 2, 3, 1,\n",
       "       3, 1, 3, 2, 2, 2, 3, 3, 1, 1, 3, 2, 1, 1, 1, 1, 3, 2, 3, 2, 1, 1,\n",
       "       3, 1, 1, 3], dtype=int64)"
      ]
     },
     "execution_count": 88,
     "metadata": {},
     "output_type": "execute_result"
    }
   ],
   "source": [
    "np.array(y_test)"
   ]
  },
  {
   "cell_type": "code",
   "execution_count": 89,
   "id": "718f1bca",
   "metadata": {},
   "outputs": [
    {
     "data": {
      "text/plain": [
       "array([[65,  0,  0],\n",
       "       [35,  0,  4],\n",
       "       [14,  0, 18]], dtype=int64)"
      ]
     },
     "execution_count": 89,
     "metadata": {},
     "output_type": "execute_result"
    }
   ],
   "source": [
    "confusion_matrix(y_test, y_pred)"
   ]
  },
  {
   "cell_type": "code",
   "execution_count": 90,
   "id": "f8b5012f",
   "metadata": {},
   "outputs": [
    {
     "name": "stdout",
     "output_type": "stream",
     "text": [
      "              precision    recall  f1-score   support\n",
      "\n",
      "           1       0.57      1.00      0.73        65\n",
      "           2       0.00      0.00      0.00        39\n",
      "           3       0.82      0.56      0.67        32\n",
      "\n",
      "    accuracy                           0.61       136\n",
      "   macro avg       0.46      0.52      0.46       136\n",
      "weighted avg       0.47      0.61      0.50       136\n",
      "\n"
     ]
    },
    {
     "name": "stderr",
     "output_type": "stream",
     "text": [
      "C:\\Users\\karan\\anaconda3\\lib\\site-packages\\sklearn\\metrics\\_classification.py:1509: UndefinedMetricWarning: Precision is ill-defined and being set to 0.0 in labels with no predicted samples. Use `zero_division` parameter to control this behavior.\n",
      "  _warn_prf(average, modifier, f\"{metric.capitalize()} is\", len(result))\n",
      "C:\\Users\\karan\\anaconda3\\lib\\site-packages\\sklearn\\metrics\\_classification.py:1509: UndefinedMetricWarning: Precision is ill-defined and being set to 0.0 in labels with no predicted samples. Use `zero_division` parameter to control this behavior.\n",
      "  _warn_prf(average, modifier, f\"{metric.capitalize()} is\", len(result))\n",
      "C:\\Users\\karan\\anaconda3\\lib\\site-packages\\sklearn\\metrics\\_classification.py:1509: UndefinedMetricWarning: Precision is ill-defined and being set to 0.0 in labels with no predicted samples. Use `zero_division` parameter to control this behavior.\n",
      "  _warn_prf(average, modifier, f\"{metric.capitalize()} is\", len(result))\n"
     ]
    }
   ],
   "source": [
    "print(classification_report(y_test,y_pred))"
   ]
  },
  {
   "cell_type": "code",
   "execution_count": 69,
   "id": "ce94a5ec",
   "metadata": {},
   "outputs": [
    {
     "data": {
      "text/plain": [
       "array([1, 1, 1, 1, 1, 1, 3, 1, 1, 1, 1, 3, 1, 1, 1, 1, 1, 1, 1, 1, 1, 1,\n",
       "       1, 3, 1, 1, 1, 1, 3, 1, 1, 1, 1, 1, 1, 1, 1, 1, 1, 1, 1, 1, 1, 1,\n",
       "       1, 1, 1, 1, 1, 1, 1, 1, 1, 1, 1, 1, 1, 1, 1, 1, 1, 3, 1, 1, 1, 1,\n",
       "       1, 1, 1, 1, 3, 1, 1, 1, 3, 1, 1, 1, 1, 3, 1, 1, 1, 1, 1, 1, 1, 1,\n",
       "       1, 1, 1, 1, 3, 1, 1, 1, 1, 1, 3, 1, 1, 1, 1, 1, 1, 1, 1, 1, 3, 1,\n",
       "       1, 1, 1, 1, 1, 1, 3, 3, 1, 1, 3, 1, 1, 1, 1, 1, 1, 1, 3, 1, 1, 1,\n",
       "       1, 1, 1, 1], dtype=int64)"
      ]
     },
     "execution_count": 69,
     "metadata": {},
     "output_type": "execute_result"
    }
   ],
   "source": [
    "svc_classifier_rbf = SVC(kernel='rbf')\n",
    "\n",
    "X_train, X_test, y_train,y_test = train_test_split(X,y, train_size=0.70, random_state= 42)\n",
    "svc_classifier.fit(X_train, y_train)\n",
    "\n",
    "y_pred = svc_classifier.predict(X_test)\n",
    "y_pred"
   ]
  },
  {
   "cell_type": "code",
   "execution_count": 70,
   "id": "809e99d5",
   "metadata": {},
   "outputs": [
    {
     "data": {
      "text/plain": [
       "array([[65,  0,  0],\n",
       "       [38,  0,  1],\n",
       "       [18,  0, 14]], dtype=int64)"
      ]
     },
     "execution_count": 70,
     "metadata": {},
     "output_type": "execute_result"
    }
   ],
   "source": [
    "confusion_matrix(y_test, y_pred)"
   ]
  },
  {
   "cell_type": "code",
   "execution_count": 71,
   "id": "270052df",
   "metadata": {},
   "outputs": [
    {
     "name": "stdout",
     "output_type": "stream",
     "text": [
      "              precision    recall  f1-score   support\n",
      "\n",
      "           1       0.54      1.00      0.70        65\n",
      "           2       0.00      0.00      0.00        39\n",
      "           3       0.93      0.44      0.60        32\n",
      "\n",
      "    accuracy                           0.58       136\n",
      "   macro avg       0.49      0.48      0.43       136\n",
      "weighted avg       0.48      0.58      0.47       136\n",
      "\n"
     ]
    },
    {
     "name": "stderr",
     "output_type": "stream",
     "text": [
      "C:\\Users\\karan\\anaconda3\\lib\\site-packages\\sklearn\\metrics\\_classification.py:1509: UndefinedMetricWarning: Precision is ill-defined and being set to 0.0 in labels with no predicted samples. Use `zero_division` parameter to control this behavior.\n",
      "  _warn_prf(average, modifier, f\"{metric.capitalize()} is\", len(result))\n",
      "C:\\Users\\karan\\anaconda3\\lib\\site-packages\\sklearn\\metrics\\_classification.py:1509: UndefinedMetricWarning: Precision is ill-defined and being set to 0.0 in labels with no predicted samples. Use `zero_division` parameter to control this behavior.\n",
      "  _warn_prf(average, modifier, f\"{metric.capitalize()} is\", len(result))\n",
      "C:\\Users\\karan\\anaconda3\\lib\\site-packages\\sklearn\\metrics\\_classification.py:1509: UndefinedMetricWarning: Precision is ill-defined and being set to 0.0 in labels with no predicted samples. Use `zero_division` parameter to control this behavior.\n",
      "  _warn_prf(average, modifier, f\"{metric.capitalize()} is\", len(result))\n"
     ]
    }
   ],
   "source": [
    "print(classification_report(y_test,y_pred))"
   ]
  },
  {
   "cell_type": "code",
   "execution_count": 72,
   "id": "add42b99",
   "metadata": {},
   "outputs": [
    {
     "data": {
      "text/plain": [
       "array([3, 1, 1, 1, 1, 1, 3, 1, 1, 1, 3, 3, 1, 1, 1, 1, 1, 1, 1, 1, 1, 1,\n",
       "       1, 3, 1, 1, 1, 1, 3, 1, 1, 1, 1, 3, 1, 1, 1, 1, 3, 1, 1, 1, 1, 1,\n",
       "       1, 3, 1, 1, 1, 1, 1, 1, 1, 1, 1, 1, 1, 1, 1, 1, 1, 3, 1, 1, 1, 1,\n",
       "       1, 1, 1, 1, 3, 1, 1, 1, 3, 1, 1, 1, 1, 3, 3, 1, 1, 1, 1, 1, 1, 1,\n",
       "       1, 1, 1, 1, 1, 3, 1, 1, 1, 1, 3, 1, 1, 3, 1, 1, 3, 1, 1, 1, 1, 1,\n",
       "       1, 1, 1, 1, 1, 1, 3, 3, 1, 1, 1, 1, 1, 1, 1, 1, 3, 1, 1, 1, 1, 1,\n",
       "       1, 1, 1, 3], dtype=int64)"
      ]
     },
     "execution_count": 72,
     "metadata": {},
     "output_type": "execute_result"
    }
   ],
   "source": [
    "svc_classifier_poly = SVC(kernel='poly')\n",
    "\n",
    "X_train, X_test, y_train,y_test = train_test_split(X,y, train_size=0.70, random_state= 42)\n",
    "svc_classifier.fit(X_train, y_train)\n",
    "\n",
    "y_pred = svc_classifier.predict(X_test)\n",
    "y_pred"
   ]
  },
  {
   "cell_type": "code",
   "execution_count": 77,
   "id": "a9de9e78",
   "metadata": {},
   "outputs": [
    {
     "data": {
      "text/plain": [
       "array([[65,  0,  0],\n",
       "       [35,  0,  4],\n",
       "       [14,  0, 18]], dtype=int64)"
      ]
     },
     "execution_count": 77,
     "metadata": {},
     "output_type": "execute_result"
    }
   ],
   "source": [
    "confusion_matrix(y_test, y_pred)"
   ]
  },
  {
   "cell_type": "code",
   "execution_count": 78,
   "id": "3e62d7d5",
   "metadata": {},
   "outputs": [
    {
     "name": "stdout",
     "output_type": "stream",
     "text": [
      "              precision    recall  f1-score   support\n",
      "\n",
      "           1       0.57      1.00      0.73        65\n",
      "           2       0.00      0.00      0.00        39\n",
      "           3       0.82      0.56      0.67        32\n",
      "\n",
      "    accuracy                           0.61       136\n",
      "   macro avg       0.46      0.52      0.46       136\n",
      "weighted avg       0.47      0.61      0.50       136\n",
      "\n"
     ]
    },
    {
     "name": "stderr",
     "output_type": "stream",
     "text": [
      "C:\\Users\\karan\\anaconda3\\lib\\site-packages\\sklearn\\metrics\\_classification.py:1509: UndefinedMetricWarning: Precision is ill-defined and being set to 0.0 in labels with no predicted samples. Use `zero_division` parameter to control this behavior.\n",
      "  _warn_prf(average, modifier, f\"{metric.capitalize()} is\", len(result))\n",
      "C:\\Users\\karan\\anaconda3\\lib\\site-packages\\sklearn\\metrics\\_classification.py:1509: UndefinedMetricWarning: Precision is ill-defined and being set to 0.0 in labels with no predicted samples. Use `zero_division` parameter to control this behavior.\n",
      "  _warn_prf(average, modifier, f\"{metric.capitalize()} is\", len(result))\n",
      "C:\\Users\\karan\\anaconda3\\lib\\site-packages\\sklearn\\metrics\\_classification.py:1509: UndefinedMetricWarning: Precision is ill-defined and being set to 0.0 in labels with no predicted samples. Use `zero_division` parameter to control this behavior.\n",
      "  _warn_prf(average, modifier, f\"{metric.capitalize()} is\", len(result))\n"
     ]
    }
   ],
   "source": [
    "print(classification_report(y_test,y_pred))"
   ]
  },
  {
   "cell_type": "markdown",
   "id": "17ee7a4b",
   "metadata": {},
   "source": [
    "### 4. Decision Tree"
   ]
  },
  {
   "cell_type": "code",
   "execution_count": 105,
   "id": "1e899604",
   "metadata": {},
   "outputs": [
    {
     "data": {
      "text/plain": [
       "array([3, 1, 2, 1, 2, 1, 3, 3, 1, 1, 3, 3, 1, 1, 1, 1, 1, 1, 1, 1, 1, 1,\n",
       "       1, 3, 3, 1, 1, 1, 2, 1, 1, 1, 1, 1, 1, 1, 1, 1, 2, 1, 1, 1, 1, 2,\n",
       "       1, 3, 2, 1, 2, 1, 1, 1, 1, 1, 1, 1, 1, 1, 1, 1, 1, 3, 2, 1, 1, 1,\n",
       "       1, 1, 1, 1, 3, 1, 1, 2, 3, 1, 1, 1, 1, 3, 2, 1, 2, 1, 1, 1, 1, 1,\n",
       "       1, 1, 1, 1, 3, 2, 1, 2, 1, 1, 3, 1, 1, 2, 2, 1, 2, 3, 1, 1, 3, 1,\n",
       "       3, 1, 2, 1, 1, 1, 3, 3, 1, 2, 3, 2, 1, 1, 1, 1, 3, 1, 3, 1, 1, 1,\n",
       "       1, 1, 1, 3], dtype=int64)"
      ]
     },
     "execution_count": 105,
     "metadata": {},
     "output_type": "execute_result"
    }
   ],
   "source": [
    "from sklearn.tree import DecisionTreeClassifier\n",
    "\n",
    "dt = DecisionTreeClassifier(max_depth=6, random_state=42)\n",
    "dt.fit(X_train, y_train)\n",
    "\n",
    "y_pred=dt.predict(X_test)\n",
    "y_pred"
   ]
  },
  {
   "cell_type": "code",
   "execution_count": 106,
   "id": "37c32685",
   "metadata": {},
   "outputs": [
    {
     "data": {
      "text/plain": [
       "array([[63,  2,  0],\n",
       "       [27,  9,  3],\n",
       "       [ 4,  8, 20]], dtype=int64)"
      ]
     },
     "execution_count": 106,
     "metadata": {},
     "output_type": "execute_result"
    }
   ],
   "source": [
    "confusion_matrix(y_test, y_pred)"
   ]
  },
  {
   "cell_type": "code",
   "execution_count": 107,
   "id": "59c858ec",
   "metadata": {},
   "outputs": [
    {
     "name": "stdout",
     "output_type": "stream",
     "text": [
      "              precision    recall  f1-score   support\n",
      "\n",
      "           1       0.67      0.97      0.79        65\n",
      "           2       0.47      0.23      0.31        39\n",
      "           3       0.87      0.62      0.73        32\n",
      "\n",
      "    accuracy                           0.68       136\n",
      "   macro avg       0.67      0.61      0.61       136\n",
      "weighted avg       0.66      0.68      0.64       136\n",
      "\n"
     ]
    }
   ],
   "source": [
    "print(classification_report(y_test,y_pred))"
   ]
  },
  {
   "cell_type": "markdown",
   "id": "41ab138d",
   "metadata": {},
   "source": [
    "With a depth of 6 nodes, the tree creates a model accuracy of 68%"
   ]
  },
  {
   "cell_type": "code",
   "execution_count": 108,
   "id": "8b1bf907",
   "metadata": {},
   "outputs": [
    {
     "data": {
      "text/plain": [
       "array([3, 1, 2, 2, 2, 1, 3, 3, 1, 1, 3, 3, 1, 1, 1, 1, 1, 1, 1, 1, 1, 1,\n",
       "       1, 3, 3, 1, 3, 1, 2, 1, 1, 1, 1, 1, 1, 1, 1, 2, 2, 1, 2, 2, 1, 2,\n",
       "       1, 3, 2, 3, 2, 1, 1, 1, 1, 1, 1, 1, 1, 1, 1, 1, 1, 3, 2, 1, 1, 1,\n",
       "       1, 1, 1, 2, 3, 2, 1, 2, 3, 1, 1, 1, 1, 3, 2, 2, 2, 1, 1, 1, 2, 1,\n",
       "       1, 1, 1, 1, 3, 3, 1, 2, 1, 1, 3, 1, 1, 2, 2, 1, 2, 1, 2, 1, 3, 2,\n",
       "       3, 1, 2, 1, 1, 1, 3, 3, 1, 2, 3, 2, 1, 1, 1, 1, 3, 1, 3, 2, 1, 1,\n",
       "       3, 1, 1, 3], dtype=int64)"
      ]
     },
     "execution_count": 108,
     "metadata": {},
     "output_type": "execute_result"
    }
   ],
   "source": [
    "dt = DecisionTreeClassifier(max_depth=10, random_state=42)\n",
    "dt.fit(X_train, y_train)\n",
    "\n",
    "y_pred=dt.predict(X_test)\n",
    "y_pred"
   ]
  },
  {
   "cell_type": "code",
   "execution_count": 110,
   "id": "46b25844",
   "metadata": {},
   "outputs": [
    {
     "data": {
      "text/plain": [
       "array([[56,  8,  1],\n",
       "       [21, 13,  5],\n",
       "       [ 4,  8, 20]], dtype=int64)"
      ]
     },
     "execution_count": 110,
     "metadata": {},
     "output_type": "execute_result"
    }
   ],
   "source": [
    "confusion_matrix(y_test, y_pred)"
   ]
  },
  {
   "cell_type": "code",
   "execution_count": 111,
   "id": "f0b9c926",
   "metadata": {},
   "outputs": [
    {
     "name": "stdout",
     "output_type": "stream",
     "text": [
      "              precision    recall  f1-score   support\n",
      "\n",
      "           1       0.69      0.86      0.77        65\n",
      "           2       0.45      0.33      0.38        39\n",
      "           3       0.77      0.62      0.69        32\n",
      "\n",
      "    accuracy                           0.65       136\n",
      "   macro avg       0.64      0.61      0.61       136\n",
      "weighted avg       0.64      0.65      0.64       136\n",
      "\n"
     ]
    }
   ],
   "source": [
    "print(classification_report(y_test,y_pred))"
   ]
  },
  {
   "cell_type": "markdown",
   "id": "204fbcaf",
   "metadata": {},
   "source": [
    "With a depth of 10 nodes, the tree creates a model accuracy of 65%"
   ]
  },
  {
   "cell_type": "code",
   "execution_count": 112,
   "id": "112ac62d",
   "metadata": {},
   "outputs": [
    {
     "data": {
      "text/plain": [
       "array([3, 1, 1, 1, 3, 1, 3, 3, 1, 1, 3, 3, 1, 1, 1, 1, 1, 1, 1, 1, 1, 1,\n",
       "       1, 3, 3, 1, 1, 1, 3, 1, 1, 1, 1, 3, 1, 1, 1, 1, 3, 1, 1, 1, 1, 1,\n",
       "       1, 3, 1, 1, 1, 1, 1, 1, 1, 1, 1, 1, 1, 1, 1, 1, 1, 3, 1, 1, 1, 1,\n",
       "       1, 1, 1, 3, 3, 1, 1, 1, 3, 1, 1, 1, 1, 3, 3, 1, 1, 1, 1, 1, 1, 1,\n",
       "       1, 1, 1, 1, 3, 3, 1, 1, 1, 1, 3, 1, 1, 3, 1, 1, 3, 1, 1, 1, 3, 1,\n",
       "       3, 1, 3, 1, 1, 1, 3, 3, 1, 1, 3, 1, 1, 1, 1, 1, 3, 1, 3, 1, 1, 1,\n",
       "       1, 1, 1, 3], dtype=int64)"
      ]
     },
     "execution_count": 112,
     "metadata": {},
     "output_type": "execute_result"
    }
   ],
   "source": [
    "dt = DecisionTreeClassifier(max_depth=3, random_state=42)\n",
    "dt.fit(X_train, y_train)\n",
    "\n",
    "y_pred=dt.predict(X_test)\n",
    "y_pred"
   ]
  },
  {
   "cell_type": "code",
   "execution_count": 113,
   "id": "f5ce5dd9",
   "metadata": {},
   "outputs": [
    {
     "data": {
      "text/plain": [
       "0.6691176470588235"
      ]
     },
     "execution_count": 113,
     "metadata": {},
     "output_type": "execute_result"
    }
   ],
   "source": [
    "acc = accuracy_score(y_test, y_pred)\n",
    "acc"
   ]
  },
  {
   "cell_type": "markdown",
   "id": "08b649a7",
   "metadata": {},
   "source": [
    "And With a depth of 3 nodes, the tree creates a model accuracy of 66%"
   ]
  },
  {
   "cell_type": "markdown",
   "id": "648b4299",
   "metadata": {},
   "source": [
    "### Conclusion: K Nearest neighbours is the best model for this data, as it has the highest accuracy of 73% accurate predictions"
   ]
  }
 ],
 "metadata": {
  "kernelspec": {
   "display_name": "Python 3 (ipykernel)",
   "language": "python",
   "name": "python3"
  },
  "language_info": {
   "codemirror_mode": {
    "name": "ipython",
    "version": 3
   },
   "file_extension": ".py",
   "mimetype": "text/x-python",
   "name": "python",
   "nbconvert_exporter": "python",
   "pygments_lexer": "ipython3",
   "version": "3.9.13"
  }
 },
 "nbformat": 4,
 "nbformat_minor": 5
}
